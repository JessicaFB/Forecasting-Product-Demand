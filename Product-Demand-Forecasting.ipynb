{
 "cells": [
  {
   "cell_type": "markdown",
   "metadata": {
    "toc": true
   },
   "source": [
    "<h1>Table of Contents<span class=\"tocSkip\"></span></h1>\n",
    "<div class=\"toc\"><ul class=\"toc-item\"><li><span><a href=\"#Intro\" data-toc-modified-id=\"Intro-1\"><span class=\"toc-item-num\">1&nbsp;&nbsp;</span>Intro</a></span></li><li><span><a href=\"#Import-Packages-&amp;-Data\" data-toc-modified-id=\"Import-Packages-&amp;-Data-2\"><span class=\"toc-item-num\">2&nbsp;&nbsp;</span>Import Packages &amp; Data</a></span></li><li><span><a href=\"#Clean-&amp;-Explore-Data\" data-toc-modified-id=\"Clean-&amp;-Explore-Data-3\"><span class=\"toc-item-num\">3&nbsp;&nbsp;</span>Clean &amp; Explore Data</a></span></li><li><span><a href=\"#EDA\" data-toc-modified-id=\"EDA-4\"><span class=\"toc-item-num\">4&nbsp;&nbsp;</span>EDA</a></span><ul class=\"toc-item\"><li><ul class=\"toc-item\"><li><span><a href=\"#Warehouse\" data-toc-modified-id=\"Warehouse-4.0.1\"><span class=\"toc-item-num\">4.0.1&nbsp;&nbsp;</span>Warehouse</a></span><ul class=\"toc-item\"><li><span><a href=\"#Value-Counts\" data-toc-modified-id=\"Value-Counts-4.0.1.1\"><span class=\"toc-item-num\">4.0.1.1&nbsp;&nbsp;</span>Value Counts</a></span></li><li><span><a href=\"#Product-Demand\" data-toc-modified-id=\"Product-Demand-4.0.1.2\"><span class=\"toc-item-num\">4.0.1.2&nbsp;&nbsp;</span>Product Demand</a></span></li></ul></li><li><span><a href=\"#Products\" data-toc-modified-id=\"Products-4.0.2\"><span class=\"toc-item-num\">4.0.2&nbsp;&nbsp;</span>Products</a></span><ul class=\"toc-item\"><li><span><a href=\"#Product-Count\" data-toc-modified-id=\"Product-Count-4.0.2.1\"><span class=\"toc-item-num\">4.0.2.1&nbsp;&nbsp;</span>Product Count</a></span></li><li><span><a href=\"#Product-Demand\" data-toc-modified-id=\"Product-Demand-4.0.2.2\"><span class=\"toc-item-num\">4.0.2.2&nbsp;&nbsp;</span>Product Demand</a></span></li><li><span><a href=\"#Top-100-Products\" data-toc-modified-id=\"Top-100-Products-4.0.2.3\"><span class=\"toc-item-num\">4.0.2.3&nbsp;&nbsp;</span>Top 100 Products</a></span></li><li><span><a href=\"#Top-50-Products\" data-toc-modified-id=\"Top-50-Products-4.0.2.4\"><span class=\"toc-item-num\">4.0.2.4&nbsp;&nbsp;</span>Top 50 Products</a></span></li><li><span><a href=\"#Discussion\" data-toc-modified-id=\"Discussion-4.0.2.5\"><span class=\"toc-item-num\">4.0.2.5&nbsp;&nbsp;</span>Discussion</a></span></li><li><span><a href=\"#Low-Demand-Preview\" data-toc-modified-id=\"Low-Demand-Preview-4.0.2.6\"><span class=\"toc-item-num\">4.0.2.6&nbsp;&nbsp;</span>Low Demand Preview</a></span></li><li><span><a href=\"#Top-Product\" data-toc-modified-id=\"Top-Product-4.0.2.7\"><span class=\"toc-item-num\">4.0.2.7&nbsp;&nbsp;</span>Top Product</a></span></li></ul></li><li><span><a href=\"#Product-Category\" data-toc-modified-id=\"Product-Category-4.0.3\"><span class=\"toc-item-num\">4.0.3&nbsp;&nbsp;</span>Product Category</a></span></li></ul></li></ul></li><li><span><a href=\"#Modeling\" data-toc-modified-id=\"Modeling-5\"><span class=\"toc-item-num\">5&nbsp;&nbsp;</span>Modeling</a></span><ul class=\"toc-item\"><li><span><a href=\"#Build-&amp;-Fit-Baseline-Model\" data-toc-modified-id=\"Build-&amp;-Fit-Baseline-Model-5.1\"><span class=\"toc-item-num\">5.1&nbsp;&nbsp;</span>Build &amp; Fit Baseline Model</a></span><ul class=\"toc-item\"><li><span><a href=\"#Top-Product\" data-toc-modified-id=\"Top-Product-5.1.1\"><span class=\"toc-item-num\">5.1.1&nbsp;&nbsp;</span>Top Product</a></span><ul class=\"toc-item\"><li><span><a href=\"#Daily-Trend-Forecasting\" data-toc-modified-id=\"Daily-Trend-Forecasting-5.1.1.1\"><span class=\"toc-item-num\">5.1.1.1&nbsp;&nbsp;</span>Daily Trend Forecasting</a></span></li></ul></li><li><span><a href=\"#Discussion\" data-toc-modified-id=\"Discussion-5.1.2\"><span class=\"toc-item-num\">5.1.2&nbsp;&nbsp;</span>Discussion</a></span><ul class=\"toc-item\"><li><span><a href=\"#Monthly-Trend-Forecasting\" data-toc-modified-id=\"Monthly-Trend-Forecasting-5.1.2.1\"><span class=\"toc-item-num\">5.1.2.1&nbsp;&nbsp;</span>Monthly Trend Forecasting</a></span></li><li><span><a href=\"#Weekly-Trend-Forecasting\" data-toc-modified-id=\"Weekly-Trend-Forecasting-5.1.2.2\"><span class=\"toc-item-num\">5.1.2.2&nbsp;&nbsp;</span>Weekly Trend Forecasting</a></span></li></ul></li></ul></li><li><span><a href=\"#Performance-Metrics\" data-toc-modified-id=\"Performance-Metrics-5.2\"><span class=\"toc-item-num\">5.2&nbsp;&nbsp;</span>Performance Metrics</a></span><ul class=\"toc-item\"><li><span><a href=\"#Crossvalidation\" data-toc-modified-id=\"Crossvalidation-5.2.1\"><span class=\"toc-item-num\">5.2.1&nbsp;&nbsp;</span>Crossvalidation</a></span></li><li><span><a href=\"#Hyperparameter-Tuning\" data-toc-modified-id=\"Hyperparameter-Tuning-5.2.2\"><span class=\"toc-item-num\">5.2.2&nbsp;&nbsp;</span>Hyperparameter Tuning</a></span></li></ul></li><li><span><a href=\"#Forecasting-&amp;-Predictions\" data-toc-modified-id=\"Forecasting-&amp;-Predictions-5.3\"><span class=\"toc-item-num\">5.3&nbsp;&nbsp;</span>Forecasting &amp; Predictions</a></span></li><li><span><a href=\"#Discussion\" data-toc-modified-id=\"Discussion-5.4\"><span class=\"toc-item-num\">5.4&nbsp;&nbsp;</span>Discussion</a></span></li></ul></li><li><span><a href=\"#Conclusion\" data-toc-modified-id=\"Conclusion-6\"><span class=\"toc-item-num\">6&nbsp;&nbsp;</span>Conclusion</a></span><ul class=\"toc-item\"><li><span><a href=\"#Results\" data-toc-modified-id=\"Results-6.1\"><span class=\"toc-item-num\">6.1&nbsp;&nbsp;</span>Results</a></span></li><li><span><a href=\"#Recommendations\" data-toc-modified-id=\"Recommendations-6.2\"><span class=\"toc-item-num\">6.2&nbsp;&nbsp;</span>Recommendations</a></span></li><li><span><a href=\"#Future-Work\" data-toc-modified-id=\"Future-Work-6.3\"><span class=\"toc-item-num\">6.3&nbsp;&nbsp;</span>Future Work</a></span></li></ul></li></ul></div>"
   ]
  },
  {
   "cell_type": "markdown",
   "metadata": {},
   "source": [
    "# Intro"
   ]
  },
  {
   "cell_type": "markdown",
   "metadata": {},
   "source": [
    "# Import Packages & Data"
   ]
  },
  {
   "cell_type": "code",
   "execution_count": 1,
   "metadata": {},
   "outputs": [],
   "source": [
    "# Import packages\n",
    "\n",
    "import pandas as pd\n",
    "import numpy as np\n",
    "import matplotlib.pyplot as plt \n",
    "import seaborn as sns\n",
    "from fbprophet import Prophet\n",
    "import datetime\n",
    "\n",
    "# Filter warnings\n",
    "import warnings\n",
    "warnings.filterwarnings('ignore')\n",
    "\n",
    "# Formatting for plots\n",
    "font = {'family' : 'sans',\n",
    "        'weight' : 'regular',\n",
    "        'size'   : 22}\n",
    "plt.rc('font', **font)"
   ]
  },
  {
   "cell_type": "code",
   "execution_count": 2,
   "metadata": {},
   "outputs": [],
   "source": [
    "# Import Data\n",
    "\n",
    "data = pd.read_csv('Historical_Product_Demand.csv')\n",
    "df = pd.DataFrame(data)"
   ]
  },
  {
   "cell_type": "code",
   "execution_count": 3,
   "metadata": {},
   "outputs": [
    {
     "data": {
      "text/html": [
       "<div>\n",
       "<style scoped>\n",
       "    .dataframe tbody tr th:only-of-type {\n",
       "        vertical-align: middle;\n",
       "    }\n",
       "\n",
       "    .dataframe tbody tr th {\n",
       "        vertical-align: top;\n",
       "    }\n",
       "\n",
       "    .dataframe thead th {\n",
       "        text-align: right;\n",
       "    }\n",
       "</style>\n",
       "<table border=\"1\" class=\"dataframe\">\n",
       "  <thead>\n",
       "    <tr style=\"text-align: right;\">\n",
       "      <th></th>\n",
       "      <th>Product_Code</th>\n",
       "      <th>Warehouse</th>\n",
       "      <th>Product_Category</th>\n",
       "      <th>Date</th>\n",
       "      <th>Order_Demand</th>\n",
       "    </tr>\n",
       "  </thead>\n",
       "  <tbody>\n",
       "    <tr>\n",
       "      <td>0</td>\n",
       "      <td>Product_0993</td>\n",
       "      <td>Whse_J</td>\n",
       "      <td>Category_028</td>\n",
       "      <td>2012/7/27</td>\n",
       "      <td>100</td>\n",
       "    </tr>\n",
       "    <tr>\n",
       "      <td>1</td>\n",
       "      <td>Product_0979</td>\n",
       "      <td>Whse_J</td>\n",
       "      <td>Category_028</td>\n",
       "      <td>2012/1/19</td>\n",
       "      <td>500</td>\n",
       "    </tr>\n",
       "    <tr>\n",
       "      <td>2</td>\n",
       "      <td>Product_0979</td>\n",
       "      <td>Whse_J</td>\n",
       "      <td>Category_028</td>\n",
       "      <td>2012/2/3</td>\n",
       "      <td>500</td>\n",
       "    </tr>\n",
       "    <tr>\n",
       "      <td>3</td>\n",
       "      <td>Product_0979</td>\n",
       "      <td>Whse_J</td>\n",
       "      <td>Category_028</td>\n",
       "      <td>2012/2/9</td>\n",
       "      <td>500</td>\n",
       "    </tr>\n",
       "    <tr>\n",
       "      <td>4</td>\n",
       "      <td>Product_0979</td>\n",
       "      <td>Whse_J</td>\n",
       "      <td>Category_028</td>\n",
       "      <td>2012/3/2</td>\n",
       "      <td>500</td>\n",
       "    </tr>\n",
       "  </tbody>\n",
       "</table>\n",
       "</div>"
      ],
      "text/plain": [
       "   Product_Code Warehouse Product_Category       Date  Order_Demand\n",
       "0  Product_0993    Whse_J     Category_028  2012/7/27           100\n",
       "1  Product_0979    Whse_J     Category_028  2012/1/19           500\n",
       "2  Product_0979    Whse_J     Category_028   2012/2/3           500\n",
       "3  Product_0979    Whse_J     Category_028   2012/2/9           500\n",
       "4  Product_0979    Whse_J     Category_028   2012/3/2           500"
      ]
     },
     "execution_count": 3,
     "metadata": {},
     "output_type": "execute_result"
    }
   ],
   "source": [
    "# Preview Data\n",
    "\n",
    "df.head()"
   ]
  },
  {
   "cell_type": "markdown",
   "metadata": {},
   "source": [
    "# Clean & Explore Data"
   ]
  },
  {
   "cell_type": "markdown",
   "metadata": {},
   "source": [
    "Since we're fitting time series models, we're going to want to change the Date column to be in datetime format and set it as the index. We'll explore a bit first before getting to that. "
   ]
  },
  {
   "cell_type": "code",
   "execution_count": 4,
   "metadata": {},
   "outputs": [
    {
     "name": "stdout",
     "output_type": "stream",
     "text": [
      "<class 'pandas.core.frame.DataFrame'>\n",
      "RangeIndex: 999999 entries, 0 to 999998\n",
      "Data columns (total 5 columns):\n",
      "Product_Code        999999 non-null object\n",
      "Warehouse           999999 non-null object\n",
      "Product_Category    999999 non-null object\n",
      "Date                988760 non-null object\n",
      "Order_Demand        999999 non-null int64\n",
      "dtypes: int64(1), object(4)\n",
      "memory usage: 38.1+ MB\n"
     ]
    }
   ],
   "source": [
    "df.info()"
   ]
  },
  {
   "cell_type": "markdown",
   "metadata": {},
   "source": [
    "We can see the 'Date' column has fewer values than the rest of the columns, which indicates missing data. It doesn't look like much of the data are missing, so if they're indeed null, then we can go ahead and drop those rows.\n",
    "\n",
    "We can also see that basically every category other than 'Order_Demand' are objects. That's totally fine as we will use them to categorize, however our time series will simply be date and demand.\n",
    "\n",
    "Let's take a look at our summary statistics for order demand."
   ]
  },
  {
   "cell_type": "code",
   "execution_count": 5,
   "metadata": {},
   "outputs": [
    {
     "data": {
      "text/html": [
       "<div>\n",
       "<style scoped>\n",
       "    .dataframe tbody tr th:only-of-type {\n",
       "        vertical-align: middle;\n",
       "    }\n",
       "\n",
       "    .dataframe tbody tr th {\n",
       "        vertical-align: top;\n",
       "    }\n",
       "\n",
       "    .dataframe thead th {\n",
       "        text-align: right;\n",
       "    }\n",
       "</style>\n",
       "<table border=\"1\" class=\"dataframe\">\n",
       "  <thead>\n",
       "    <tr style=\"text-align: right;\">\n",
       "      <th></th>\n",
       "      <th>Order_Demand</th>\n",
       "    </tr>\n",
       "  </thead>\n",
       "  <tbody>\n",
       "    <tr>\n",
       "      <td>count</td>\n",
       "      <td>999999.0</td>\n",
       "    </tr>\n",
       "    <tr>\n",
       "      <td>mean</td>\n",
       "      <td>5071.0</td>\n",
       "    </tr>\n",
       "    <tr>\n",
       "      <td>std</td>\n",
       "      <td>29603.0</td>\n",
       "    </tr>\n",
       "    <tr>\n",
       "      <td>min</td>\n",
       "      <td>-999000.0</td>\n",
       "    </tr>\n",
       "    <tr>\n",
       "      <td>25%</td>\n",
       "      <td>20.0</td>\n",
       "    </tr>\n",
       "    <tr>\n",
       "      <td>50%</td>\n",
       "      <td>300.0</td>\n",
       "    </tr>\n",
       "    <tr>\n",
       "      <td>75%</td>\n",
       "      <td>2000.0</td>\n",
       "    </tr>\n",
       "    <tr>\n",
       "      <td>max</td>\n",
       "      <td>4000000.0</td>\n",
       "    </tr>\n",
       "  </tbody>\n",
       "</table>\n",
       "</div>"
      ],
      "text/plain": [
       "       Order_Demand\n",
       "count      999999.0\n",
       "mean         5071.0\n",
       "std         29603.0\n",
       "min       -999000.0\n",
       "25%            20.0\n",
       "50%           300.0\n",
       "75%          2000.0\n",
       "max       4000000.0"
      ]
     },
     "execution_count": 5,
     "metadata": {},
     "output_type": "execute_result"
    }
   ],
   "source": [
    "# Summary statistics\n",
    "df.describe().round()"
   ]
  },
  {
   "cell_type": "markdown",
   "metadata": {},
   "source": [
    "With a minimum of -999000.0, it looks like this may be a null value, so we can search for those nulls as well.\n",
    "\n",
    "Let's go ahead and get those rows with null date values removed, and then change our date column into datetime format and rather than set to index actually, we will set it to Facebook Profit's special 'ds' column."
   ]
  },
  {
   "cell_type": "code",
   "execution_count": 6,
   "metadata": {},
   "outputs": [
    {
     "data": {
      "text/html": [
       "<div>\n",
       "<style scoped>\n",
       "    .dataframe tbody tr th:only-of-type {\n",
       "        vertical-align: middle;\n",
       "    }\n",
       "\n",
       "    .dataframe tbody tr th {\n",
       "        vertical-align: top;\n",
       "    }\n",
       "\n",
       "    .dataframe thead th {\n",
       "        text-align: right;\n",
       "    }\n",
       "</style>\n",
       "<table border=\"1\" class=\"dataframe\">\n",
       "  <thead>\n",
       "    <tr style=\"text-align: right;\">\n",
       "      <th></th>\n",
       "      <th>Product_Code</th>\n",
       "      <th>Warehouse</th>\n",
       "      <th>Product_Category</th>\n",
       "      <th>Date</th>\n",
       "      <th>Order_Demand</th>\n",
       "    </tr>\n",
       "  </thead>\n",
       "  <tbody>\n",
       "    <tr>\n",
       "      <td>585144</td>\n",
       "      <td>Product_1241</td>\n",
       "      <td>Whse_J</td>\n",
       "      <td>Category_019</td>\n",
       "      <td>2014/3/27</td>\n",
       "      <td>-999000</td>\n",
       "    </tr>\n",
       "  </tbody>\n",
       "</table>\n",
       "</div>"
      ],
      "text/plain": [
       "        Product_Code Warehouse Product_Category       Date  Order_Demand\n",
       "585144  Product_1241    Whse_J     Category_019  2014/3/27       -999000"
      ]
     },
     "execution_count": 6,
     "metadata": {},
     "output_type": "execute_result"
    }
   ],
   "source": [
    "df[df.Order_Demand == -999000]"
   ]
  },
  {
   "cell_type": "code",
   "execution_count": 7,
   "metadata": {},
   "outputs": [
    {
     "data": {
      "text/plain": [
       "Product_Code        False\n",
       "Warehouse           False\n",
       "Product_Category    False\n",
       "Date                 True\n",
       "Order_Demand        False\n",
       "dtype: bool"
      ]
     },
     "execution_count": 7,
     "metadata": {},
     "output_type": "execute_result"
    }
   ],
   "source": [
    "df.isnull().any()"
   ]
  },
  {
   "cell_type": "code",
   "execution_count": 8,
   "metadata": {},
   "outputs": [
    {
     "data": {
      "text/html": [
       "<div>\n",
       "<style scoped>\n",
       "    .dataframe tbody tr th:only-of-type {\n",
       "        vertical-align: middle;\n",
       "    }\n",
       "\n",
       "    .dataframe tbody tr th {\n",
       "        vertical-align: top;\n",
       "    }\n",
       "\n",
       "    .dataframe thead th {\n",
       "        text-align: right;\n",
       "    }\n",
       "</style>\n",
       "<table border=\"1\" class=\"dataframe\">\n",
       "  <thead>\n",
       "    <tr style=\"text-align: right;\">\n",
       "      <th></th>\n",
       "      <th>Product_Code</th>\n",
       "      <th>Warehouse</th>\n",
       "      <th>Product_Category</th>\n",
       "      <th>Date</th>\n",
       "      <th>Order_Demand</th>\n",
       "    </tr>\n",
       "  </thead>\n",
       "  <tbody>\n",
       "    <tr>\n",
       "      <td>45460</td>\n",
       "      <td>Product_1461</td>\n",
       "      <td>Whse_A</td>\n",
       "      <td>Category_019</td>\n",
       "      <td>NaN</td>\n",
       "      <td>10000</td>\n",
       "    </tr>\n",
       "    <tr>\n",
       "      <td>456373</td>\n",
       "      <td>Product_1636</td>\n",
       "      <td>Whse_A</td>\n",
       "      <td>Category_019</td>\n",
       "      <td>NaN</td>\n",
       "      <td>100</td>\n",
       "    </tr>\n",
       "    <tr>\n",
       "      <td>456374</td>\n",
       "      <td>Product_1461</td>\n",
       "      <td>Whse_A</td>\n",
       "      <td>Category_019</td>\n",
       "      <td>NaN</td>\n",
       "      <td>300</td>\n",
       "    </tr>\n",
       "    <tr>\n",
       "      <td>456375</td>\n",
       "      <td>Product_1464</td>\n",
       "      <td>Whse_A</td>\n",
       "      <td>Category_019</td>\n",
       "      <td>NaN</td>\n",
       "      <td>300</td>\n",
       "    </tr>\n",
       "    <tr>\n",
       "      <td>456376</td>\n",
       "      <td>Product_1388</td>\n",
       "      <td>Whse_A</td>\n",
       "      <td>Category_019</td>\n",
       "      <td>NaN</td>\n",
       "      <td>200</td>\n",
       "    </tr>\n",
       "    <tr>\n",
       "      <td>...</td>\n",
       "      <td>...</td>\n",
       "      <td>...</td>\n",
       "      <td>...</td>\n",
       "      <td>...</td>\n",
       "      <td>...</td>\n",
       "    </tr>\n",
       "    <tr>\n",
       "      <td>995790</td>\n",
       "      <td>Product_1464</td>\n",
       "      <td>Whse_A</td>\n",
       "      <td>Category_019</td>\n",
       "      <td>NaN</td>\n",
       "      <td>-900</td>\n",
       "    </tr>\n",
       "    <tr>\n",
       "      <td>995791</td>\n",
       "      <td>Product_1541</td>\n",
       "      <td>Whse_A</td>\n",
       "      <td>Category_019</td>\n",
       "      <td>NaN</td>\n",
       "      <td>-200</td>\n",
       "    </tr>\n",
       "    <tr>\n",
       "      <td>995792</td>\n",
       "      <td>Product_1388</td>\n",
       "      <td>Whse_A</td>\n",
       "      <td>Category_019</td>\n",
       "      <td>NaN</td>\n",
       "      <td>-300</td>\n",
       "    </tr>\n",
       "    <tr>\n",
       "      <td>995793</td>\n",
       "      <td>Product_1541</td>\n",
       "      <td>Whse_A</td>\n",
       "      <td>Category_019</td>\n",
       "      <td>NaN</td>\n",
       "      <td>-300</td>\n",
       "    </tr>\n",
       "    <tr>\n",
       "      <td>995794</td>\n",
       "      <td>Product_1509</td>\n",
       "      <td>Whse_A</td>\n",
       "      <td>Category_019</td>\n",
       "      <td>NaN</td>\n",
       "      <td>-200</td>\n",
       "    </tr>\n",
       "  </tbody>\n",
       "</table>\n",
       "<p>11239 rows × 5 columns</p>\n",
       "</div>"
      ],
      "text/plain": [
       "        Product_Code Warehouse Product_Category Date  Order_Demand\n",
       "45460   Product_1461    Whse_A     Category_019  NaN         10000\n",
       "456373  Product_1636    Whse_A     Category_019  NaN           100\n",
       "456374  Product_1461    Whse_A     Category_019  NaN           300\n",
       "456375  Product_1464    Whse_A     Category_019  NaN           300\n",
       "456376  Product_1388    Whse_A     Category_019  NaN           200\n",
       "...              ...       ...              ...  ...           ...\n",
       "995790  Product_1464    Whse_A     Category_019  NaN          -900\n",
       "995791  Product_1541    Whse_A     Category_019  NaN          -200\n",
       "995792  Product_1388    Whse_A     Category_019  NaN          -300\n",
       "995793  Product_1541    Whse_A     Category_019  NaN          -300\n",
       "995794  Product_1509    Whse_A     Category_019  NaN          -200\n",
       "\n",
       "[11239 rows x 5 columns]"
      ]
     },
     "execution_count": 8,
     "metadata": {},
     "output_type": "execute_result"
    }
   ],
   "source": [
    "df[df.Date.isnull() == True]"
   ]
  },
  {
   "cell_type": "markdown",
   "metadata": {},
   "source": [
    "This looks like a lot of rows, and that they're all from Warehouse A. Some of them appear to have negative demand as well. Let's take a closer look. "
   ]
  },
  {
   "cell_type": "code",
   "execution_count": 9,
   "metadata": {},
   "outputs": [
    {
     "data": {
      "text/html": [
       "<div>\n",
       "<style scoped>\n",
       "    .dataframe tbody tr th:only-of-type {\n",
       "        vertical-align: middle;\n",
       "    }\n",
       "\n",
       "    .dataframe tbody tr th {\n",
       "        vertical-align: top;\n",
       "    }\n",
       "\n",
       "    .dataframe thead th {\n",
       "        text-align: right;\n",
       "    }\n",
       "</style>\n",
       "<table border=\"1\" class=\"dataframe\">\n",
       "  <thead>\n",
       "    <tr style=\"text-align: right;\">\n",
       "      <th></th>\n",
       "      <th>Product_Code</th>\n",
       "      <th>Warehouse</th>\n",
       "      <th>Product_Category</th>\n",
       "      <th>Date</th>\n",
       "      <th>Order_Demand</th>\n",
       "    </tr>\n",
       "  </thead>\n",
       "  <tbody>\n",
       "    <tr>\n",
       "      <td>34593</td>\n",
       "      <td>Product_0905</td>\n",
       "      <td>Whse_A</td>\n",
       "      <td>Category_023</td>\n",
       "      <td>2012/3/7</td>\n",
       "      <td>50</td>\n",
       "    </tr>\n",
       "    <tr>\n",
       "      <td>41029</td>\n",
       "      <td>Product_0097</td>\n",
       "      <td>Whse_A</td>\n",
       "      <td>Category_019</td>\n",
       "      <td>2012/1/18</td>\n",
       "      <td>6000</td>\n",
       "    </tr>\n",
       "    <tr>\n",
       "      <td>41030</td>\n",
       "      <td>Product_1496</td>\n",
       "      <td>Whse_A</td>\n",
       "      <td>Category_019</td>\n",
       "      <td>2012/3/13</td>\n",
       "      <td>5000</td>\n",
       "    </tr>\n",
       "    <tr>\n",
       "      <td>41031</td>\n",
       "      <td>Product_0097</td>\n",
       "      <td>Whse_A</td>\n",
       "      <td>Category_019</td>\n",
       "      <td>2012/4/16</td>\n",
       "      <td>6000</td>\n",
       "    </tr>\n",
       "    <tr>\n",
       "      <td>41032</td>\n",
       "      <td>Product_0097</td>\n",
       "      <td>Whse_A</td>\n",
       "      <td>Category_019</td>\n",
       "      <td>2012/9/24</td>\n",
       "      <td>3900</td>\n",
       "    </tr>\n",
       "    <tr>\n",
       "      <td>...</td>\n",
       "      <td>...</td>\n",
       "      <td>...</td>\n",
       "      <td>...</td>\n",
       "      <td>...</td>\n",
       "      <td>...</td>\n",
       "    </tr>\n",
       "    <tr>\n",
       "      <td>995797</td>\n",
       "      <td>Product_1822</td>\n",
       "      <td>Whse_A</td>\n",
       "      <td>Category_018</td>\n",
       "      <td>2016/3/1</td>\n",
       "      <td>2</td>\n",
       "    </tr>\n",
       "    <tr>\n",
       "      <td>995798</td>\n",
       "      <td>Product_1470</td>\n",
       "      <td>Whse_A</td>\n",
       "      <td>Category_019</td>\n",
       "      <td>2016/5/19</td>\n",
       "      <td>100</td>\n",
       "    </tr>\n",
       "    <tr>\n",
       "      <td>995799</td>\n",
       "      <td>Product_0599</td>\n",
       "      <td>Whse_A</td>\n",
       "      <td>Category_017</td>\n",
       "      <td>2016/9/15</td>\n",
       "      <td>12</td>\n",
       "    </tr>\n",
       "    <tr>\n",
       "      <td>995800</td>\n",
       "      <td>Product_0599</td>\n",
       "      <td>Whse_A</td>\n",
       "      <td>Category_017</td>\n",
       "      <td>2016/10/26</td>\n",
       "      <td>10</td>\n",
       "    </tr>\n",
       "    <tr>\n",
       "      <td>995801</td>\n",
       "      <td>Product_0148</td>\n",
       "      <td>Whse_A</td>\n",
       "      <td>Category_023</td>\n",
       "      <td>2016/9/15</td>\n",
       "      <td>1</td>\n",
       "    </tr>\n",
       "  </tbody>\n",
       "</table>\n",
       "<p>153574 rows × 5 columns</p>\n",
       "</div>"
      ],
      "text/plain": [
       "        Product_Code Warehouse Product_Category        Date  Order_Demand\n",
       "34593   Product_0905    Whse_A     Category_023    2012/3/7            50\n",
       "41029   Product_0097    Whse_A     Category_019   2012/1/18          6000\n",
       "41030   Product_1496    Whse_A     Category_019   2012/3/13          5000\n",
       "41031   Product_0097    Whse_A     Category_019   2012/4/16          6000\n",
       "41032   Product_0097    Whse_A     Category_019   2012/9/24          3900\n",
       "...              ...       ...              ...         ...           ...\n",
       "995797  Product_1822    Whse_A     Category_018    2016/3/1             2\n",
       "995798  Product_1470    Whse_A     Category_019   2016/5/19           100\n",
       "995799  Product_0599    Whse_A     Category_017   2016/9/15            12\n",
       "995800  Product_0599    Whse_A     Category_017  2016/10/26            10\n",
       "995801  Product_0148    Whse_A     Category_023   2016/9/15             1\n",
       "\n",
       "[153574 rows x 5 columns]"
      ]
     },
     "execution_count": 9,
     "metadata": {},
     "output_type": "execute_result"
    }
   ],
   "source": [
    "whse_a = df[df.Warehouse == 'Whse_A']\n",
    "whse_a"
   ]
  },
  {
   "cell_type": "markdown",
   "metadata": {},
   "source": [
    "We can see that 11240/153574 of the values are null. There's really no other way to interpolate time data for a warehouse with a NaN value for date, so we're going to remove it. \n",
    "\n",
    "We can also check to see how many rows we have for the other warehouses for comparison. "
   ]
  },
  {
   "cell_type": "code",
   "execution_count": 10,
   "metadata": {},
   "outputs": [
    {
     "data": {
      "text/plain": [
       "Whse_J    715944\n",
       "Whse_A    153574\n",
       "Whse_S     88127\n",
       "Whse_C     42354\n",
       "Name: Warehouse, dtype: int64"
      ]
     },
     "execution_count": 10,
     "metadata": {},
     "output_type": "execute_result"
    }
   ],
   "source": [
    "df.Warehouse.value_counts()"
   ]
  },
  {
   "cell_type": "markdown",
   "metadata": {},
   "source": [
    "We can see that Warehouse A is the second largest warehouse. There is a decent amount of variance among the warehouses, so it doesn't seem to be much of an issue to remove the rows.\n",
    "\n",
    "Let's drop the null values."
   ]
  },
  {
   "cell_type": "code",
   "execution_count": 11,
   "metadata": {},
   "outputs": [],
   "source": [
    "# Drop rows with NaN values (which were only in Date column)\n",
    "df = df.dropna()"
   ]
  },
  {
   "cell_type": "code",
   "execution_count": 12,
   "metadata": {},
   "outputs": [
    {
     "data": {
      "text/html": [
       "<div>\n",
       "<style scoped>\n",
       "    .dataframe tbody tr th:only-of-type {\n",
       "        vertical-align: middle;\n",
       "    }\n",
       "\n",
       "    .dataframe tbody tr th {\n",
       "        vertical-align: top;\n",
       "    }\n",
       "\n",
       "    .dataframe thead th {\n",
       "        text-align: right;\n",
       "    }\n",
       "</style>\n",
       "<table border=\"1\" class=\"dataframe\">\n",
       "  <thead>\n",
       "    <tr style=\"text-align: right;\">\n",
       "      <th></th>\n",
       "      <th>Product_Code</th>\n",
       "      <th>Warehouse</th>\n",
       "      <th>Product_Category</th>\n",
       "      <th>Date</th>\n",
       "      <th>Order_Demand</th>\n",
       "    </tr>\n",
       "  </thead>\n",
       "  <tbody>\n",
       "    <tr>\n",
       "      <td>585144</td>\n",
       "      <td>Product_1241</td>\n",
       "      <td>Whse_J</td>\n",
       "      <td>Category_019</td>\n",
       "      <td>2014/3/27</td>\n",
       "      <td>-999000</td>\n",
       "    </tr>\n",
       "  </tbody>\n",
       "</table>\n",
       "</div>"
      ],
      "text/plain": [
       "        Product_Code Warehouse Product_Category       Date  Order_Demand\n",
       "585144  Product_1241    Whse_J     Category_019  2014/3/27       -999000"
      ]
     },
     "execution_count": 12,
     "metadata": {},
     "output_type": "execute_result"
    }
   ],
   "source": [
    "# Get index of row with large negative order demand \n",
    "df[df.Order_Demand == -999000]"
   ]
  },
  {
   "cell_type": "code",
   "execution_count": 13,
   "metadata": {},
   "outputs": [],
   "source": [
    "# Drop row \n",
    "df = df.drop(index=585144)"
   ]
  },
  {
   "cell_type": "markdown",
   "metadata": {},
   "source": [
    "Now we'll set the Date column to datetime format."
   ]
  },
  {
   "cell_type": "code",
   "execution_count": 14,
   "metadata": {},
   "outputs": [
    {
     "name": "stdout",
     "output_type": "stream",
     "text": [
      "<class 'pandas.core.frame.DataFrame'>\n",
      "Int64Index: 988759 entries, 0 to 999998\n",
      "Data columns (total 5 columns):\n",
      "Product_Code        988759 non-null object\n",
      "Warehouse           988759 non-null object\n",
      "Product_Category    988759 non-null object\n",
      "Date                988759 non-null datetime64[ns]\n",
      "Order_Demand        988759 non-null int64\n",
      "dtypes: datetime64[ns](1), int64(1), object(3)\n",
      "memory usage: 45.3+ MB\n"
     ]
    }
   ],
   "source": [
    "df['Date'] = pd.to_datetime(df['Date'], format='%Y-%m-%d')\n",
    "df.info()"
   ]
  },
  {
   "cell_type": "markdown",
   "metadata": {},
   "source": [
    "Great! Now our Date column is set to datetime format so we can subset our data as needed and create time series from it. Now, to the visual exploration (EDA)!"
   ]
  },
  {
   "cell_type": "markdown",
   "metadata": {},
   "source": [
    "# EDA "
   ]
  },
  {
   "cell_type": "markdown",
   "metadata": {},
   "source": [
    "Let's take a look at product demand for the entire time series. Note: I zoomed in on the x-axis as 2011 data was significantly lower. We'll take a closer look at 2011 following this plot."
   ]
  },
  {
   "cell_type": "code",
   "execution_count": 15,
   "metadata": {},
   "outputs": [
    {
     "data": {
      "image/png": "[encoded data removed]",
      "text/plain": [
       "<Figure size 1152x576 with 1 Axes>"
      ]
     },
     "metadata": {
      "needs_background": "light"
     },
     "output_type": "display_data"
    }
   ],
   "source": [
    "# Plot demand data for entire dataset\n",
    "\n",
    "# Sort by date first for plotting\n",
    "df = df.sort_values('Date')\n",
    "\n",
    "# Set x & y\n",
    "x = df.Date\n",
    "y = df.Order_Demand\n",
    "\n",
    "# Plot\n",
    "plt.figure(figsize=(16,8))\n",
    "plt.plot(x, y)\n",
    "\n",
    "# Set x-axis limits (low demand data for 2011 - may be able to remove this year)\n",
    "plt.xlim([datetime.date(2012, 1, 1), datetime.date(2017, 1, 1)]);"
   ]
  },
  {
   "cell_type": "markdown",
   "metadata": {},
   "source": [
    "We can see a really big spike mid 2012. I wonder why? Perhaps there was a promotion or a new product launch or something similar? The demand seems pretty consistent through out the years with a slight drop in Q3 of 2014. \n",
    "\n",
    "Let's get a closer look at 2011 (not pictured here as I intentionally zoomed in on the axis for a better visual of the data). "
   ]
  },
  {
   "cell_type": "code",
   "execution_count": 16,
   "metadata": {},
   "outputs": [],
   "source": [
    "# Create a time series\n",
    "\n",
    "# Set index to datetime column \n",
    "ts_df = df.set_index('Date')\n",
    "\n",
    "# Select extra columns to drop (everything except 'Order_Demand')\n",
    "to_drop = ['Product_Code','Warehouse','Product_Category']\n",
    "# Drop columns\n",
    "ts = ts_df.drop(to_drop, axis=1)"
   ]
  },
  {
   "cell_type": "code",
   "execution_count": 17,
   "metadata": {},
   "outputs": [
    {
     "data": {
      "text/html": [
       "<div>\n",
       "<style scoped>\n",
       "    .dataframe tbody tr th:only-of-type {\n",
       "        vertical-align: middle;\n",
       "    }\n",
       "\n",
       "    .dataframe tbody tr th {\n",
       "        vertical-align: top;\n",
       "    }\n",
       "\n",
       "    .dataframe thead th {\n",
       "        text-align: right;\n",
       "    }\n",
       "</style>\n",
       "<table border=\"1\" class=\"dataframe\">\n",
       "  <thead>\n",
       "    <tr style=\"text-align: right;\">\n",
       "      <th></th>\n",
       "      <th>Order_Demand</th>\n",
       "    </tr>\n",
       "    <tr>\n",
       "      <th>Date</th>\n",
       "      <th></th>\n",
       "    </tr>\n",
       "  </thead>\n",
       "  <tbody>\n",
       "    <tr>\n",
       "      <td>2011</td>\n",
       "      <td>7509986</td>\n",
       "    </tr>\n",
       "    <tr>\n",
       "      <td>2012</td>\n",
       "      <td>941742907</td>\n",
       "    </tr>\n",
       "    <tr>\n",
       "      <td>2013</td>\n",
       "      <td>1009218798</td>\n",
       "    </tr>\n",
       "    <tr>\n",
       "      <td>2014</td>\n",
       "      <td>1065271479</td>\n",
       "    </tr>\n",
       "    <tr>\n",
       "      <td>2015</td>\n",
       "      <td>1095426177</td>\n",
       "    </tr>\n",
       "    <tr>\n",
       "      <td>2016</td>\n",
       "      <td>952219589</td>\n",
       "    </tr>\n",
       "    <tr>\n",
       "      <td>2017</td>\n",
       "      <td>294701</td>\n",
       "    </tr>\n",
       "  </tbody>\n",
       "</table>\n",
       "</div>"
      ],
      "text/plain": [
       "      Order_Demand\n",
       "Date              \n",
       "2011       7509986\n",
       "2012     941742907\n",
       "2013    1009218798\n",
       "2014    1065271479\n",
       "2015    1095426177\n",
       "2016     952219589\n",
       "2017        294701"
      ]
     },
     "execution_count": 17,
     "metadata": {},
     "output_type": "execute_result"
    }
   ],
   "source": [
    "# Groupby year\n",
    "ts_yr = ts.groupby(by=ts.index.year).sum()\n",
    "ts_yr"
   ]
  },
  {
   "cell_type": "markdown",
   "metadata": {},
   "source": [
    "We can see that  2011 and 2017 are significantly lower. Let's find out why. First, we'll make a visual. "
   ]
  },
  {
   "cell_type": "code",
   "execution_count": 18,
   "metadata": {},
   "outputs": [
    {
     "data": {
      "image/png": "[encoded data removed]",
      "text/plain": [
       "<Figure size 1152x576 with 1 Axes>"
      ]
     },
     "metadata": {
      "needs_background": "light"
     },
     "output_type": "display_data"
    }
   ],
   "source": [
    "# Plot total product demand vs. year\n",
    "\n",
    "# Set figure size\n",
    "plt.figure(figsize=(16,8))\n",
    "# Plot\n",
    "plt.plot(ts_yr.index, ts_yr.Order_Demand)\n",
    "# Title, x & y axis labels\n",
    "plt.title('Sum Total Product Demand Per Year')\n",
    "plt.ylabel('No. Products Ordered')\n",
    "plt.xlabel('Year')\n",
    "plt.show()"
   ]
  },
  {
   "cell_type": "markdown",
   "metadata": {},
   "source": [
    "We again can see that demand was significantly lower in 2011 and 2017. I imagine these are either incomplete years or that 2011 was just the beginning, so it took time to gain momentum or perhaps not all of the warehouses were open yet. \n",
    "\n",
    "Let's take a closer look to be sure."
   ]
  },
  {
   "cell_type": "code",
   "execution_count": 19,
   "metadata": {},
   "outputs": [
    {
     "data": {
      "text/html": [
       "<div>\n",
       "<style scoped>\n",
       "    .dataframe tbody tr th:only-of-type {\n",
       "        vertical-align: middle;\n",
       "    }\n",
       "\n",
       "    .dataframe tbody tr th {\n",
       "        vertical-align: top;\n",
       "    }\n",
       "\n",
       "    .dataframe thead th {\n",
       "        text-align: right;\n",
       "    }\n",
       "</style>\n",
       "<table border=\"1\" class=\"dataframe\">\n",
       "  <thead>\n",
       "    <tr style=\"text-align: right;\">\n",
       "      <th></th>\n",
       "      <th>Order_Demand</th>\n",
       "    </tr>\n",
       "    <tr>\n",
       "      <th>Date</th>\n",
       "      <th></th>\n",
       "    </tr>\n",
       "  </thead>\n",
       "  <tbody>\n",
       "    <tr>\n",
       "      <td>2011-01-08</td>\n",
       "      <td>2</td>\n",
       "    </tr>\n",
       "    <tr>\n",
       "      <td>2011-05-31</td>\n",
       "      <td>108</td>\n",
       "    </tr>\n",
       "    <tr>\n",
       "      <td>2011-06-24</td>\n",
       "      <td>7000</td>\n",
       "    </tr>\n",
       "    <tr>\n",
       "      <td>2011-06-24</td>\n",
       "      <td>85000</td>\n",
       "    </tr>\n",
       "    <tr>\n",
       "      <td>2011-09-02</td>\n",
       "      <td>1250</td>\n",
       "    </tr>\n",
       "    <tr>\n",
       "      <td>...</td>\n",
       "      <td>...</td>\n",
       "    </tr>\n",
       "    <tr>\n",
       "      <td>2011-12-30</td>\n",
       "      <td>1000</td>\n",
       "    </tr>\n",
       "    <tr>\n",
       "      <td>2011-12-30</td>\n",
       "      <td>4</td>\n",
       "    </tr>\n",
       "    <tr>\n",
       "      <td>2011-12-30</td>\n",
       "      <td>1000</td>\n",
       "    </tr>\n",
       "    <tr>\n",
       "      <td>2011-12-30</td>\n",
       "      <td>1000000</td>\n",
       "    </tr>\n",
       "    <tr>\n",
       "      <td>2011-12-31</td>\n",
       "      <td>10000</td>\n",
       "    </tr>\n",
       "  </tbody>\n",
       "</table>\n",
       "<p>640 rows × 1 columns</p>\n",
       "</div>"
      ],
      "text/plain": [
       "            Order_Demand\n",
       "Date                    \n",
       "2011-01-08             2\n",
       "2011-05-31           108\n",
       "2011-06-24          7000\n",
       "2011-06-24         85000\n",
       "2011-09-02          1250\n",
       "...                  ...\n",
       "2011-12-30          1000\n",
       "2011-12-30             4\n",
       "2011-12-30          1000\n",
       "2011-12-30       1000000\n",
       "2011-12-31         10000\n",
       "\n",
       "[640 rows x 1 columns]"
      ]
     },
     "execution_count": 19,
     "metadata": {},
     "output_type": "execute_result"
    }
   ],
   "source": [
    "# Index time series by year 2011\n",
    "ts['2011']"
   ]
  },
  {
   "cell_type": "markdown",
   "metadata": {},
   "source": [
    "We can see that for 2011 we do have all dates/the entire year present. This may indicate the beginning/when the warehouse(s) were brand new or just starting out. Now let's take a look at 2017."
   ]
  },
  {
   "cell_type": "code",
   "execution_count": 20,
   "metadata": {},
   "outputs": [
    {
     "data": {
      "text/html": [
       "<div>\n",
       "<style scoped>\n",
       "    .dataframe tbody tr th:only-of-type {\n",
       "        vertical-align: middle;\n",
       "    }\n",
       "\n",
       "    .dataframe tbody tr th {\n",
       "        vertical-align: top;\n",
       "    }\n",
       "\n",
       "    .dataframe thead th {\n",
       "        text-align: right;\n",
       "    }\n",
       "</style>\n",
       "<table border=\"1\" class=\"dataframe\">\n",
       "  <thead>\n",
       "    <tr style=\"text-align: right;\">\n",
       "      <th></th>\n",
       "      <th>Order_Demand</th>\n",
       "    </tr>\n",
       "    <tr>\n",
       "      <th>Date</th>\n",
       "      <th></th>\n",
       "    </tr>\n",
       "  </thead>\n",
       "  <tbody>\n",
       "    <tr>\n",
       "      <td>2017-01-02</td>\n",
       "      <td>70</td>\n",
       "    </tr>\n",
       "    <tr>\n",
       "      <td>2017-01-03</td>\n",
       "      <td>200</td>\n",
       "    </tr>\n",
       "    <tr>\n",
       "      <td>2017-01-03</td>\n",
       "      <td>2000</td>\n",
       "    </tr>\n",
       "    <tr>\n",
       "      <td>2017-01-03</td>\n",
       "      <td>200</td>\n",
       "    </tr>\n",
       "    <tr>\n",
       "      <td>2017-01-04</td>\n",
       "      <td>10000</td>\n",
       "    </tr>\n",
       "    <tr>\n",
       "      <td>2017-01-04</td>\n",
       "      <td>1000</td>\n",
       "    </tr>\n",
       "    <tr>\n",
       "      <td>2017-01-04</td>\n",
       "      <td>3000</td>\n",
       "    </tr>\n",
       "    <tr>\n",
       "      <td>2017-01-04</td>\n",
       "      <td>1000</td>\n",
       "    </tr>\n",
       "    <tr>\n",
       "      <td>2017-01-04</td>\n",
       "      <td>1000</td>\n",
       "    </tr>\n",
       "    <tr>\n",
       "      <td>2017-01-04</td>\n",
       "      <td>8000</td>\n",
       "    </tr>\n",
       "    <tr>\n",
       "      <td>2017-01-04</td>\n",
       "      <td>5000</td>\n",
       "    </tr>\n",
       "    <tr>\n",
       "      <td>2017-01-05</td>\n",
       "      <td>3000</td>\n",
       "    </tr>\n",
       "    <tr>\n",
       "      <td>2017-01-05</td>\n",
       "      <td>1000</td>\n",
       "    </tr>\n",
       "    <tr>\n",
       "      <td>2017-01-05</td>\n",
       "      <td>4</td>\n",
       "    </tr>\n",
       "    <tr>\n",
       "      <td>2017-01-05</td>\n",
       "      <td>1000</td>\n",
       "    </tr>\n",
       "    <tr>\n",
       "      <td>2017-01-05</td>\n",
       "      <td>30000</td>\n",
       "    </tr>\n",
       "    <tr>\n",
       "      <td>2017-01-05</td>\n",
       "      <td>4000</td>\n",
       "    </tr>\n",
       "    <tr>\n",
       "      <td>2017-01-05</td>\n",
       "      <td>1000</td>\n",
       "    </tr>\n",
       "    <tr>\n",
       "      <td>2017-01-05</td>\n",
       "      <td>1000</td>\n",
       "    </tr>\n",
       "    <tr>\n",
       "      <td>2017-01-05</td>\n",
       "      <td>2000</td>\n",
       "    </tr>\n",
       "    <tr>\n",
       "      <td>2017-01-05</td>\n",
       "      <td>1500</td>\n",
       "    </tr>\n",
       "    <tr>\n",
       "      <td>2017-01-05</td>\n",
       "      <td>1000</td>\n",
       "    </tr>\n",
       "    <tr>\n",
       "      <td>2017-01-05</td>\n",
       "      <td>100</td>\n",
       "    </tr>\n",
       "    <tr>\n",
       "      <td>2017-01-05</td>\n",
       "      <td>30000</td>\n",
       "    </tr>\n",
       "    <tr>\n",
       "      <td>2017-01-05</td>\n",
       "      <td>300</td>\n",
       "    </tr>\n",
       "    <tr>\n",
       "      <td>2017-01-05</td>\n",
       "      <td>1000</td>\n",
       "    </tr>\n",
       "    <tr>\n",
       "      <td>2017-01-05</td>\n",
       "      <td>24</td>\n",
       "    </tr>\n",
       "    <tr>\n",
       "      <td>2017-01-05</td>\n",
       "      <td>3000</td>\n",
       "    </tr>\n",
       "    <tr>\n",
       "      <td>2017-01-05</td>\n",
       "      <td>3000</td>\n",
       "    </tr>\n",
       "    <tr>\n",
       "      <td>2017-01-05</td>\n",
       "      <td>1000</td>\n",
       "    </tr>\n",
       "    <tr>\n",
       "      <td>2017-01-06</td>\n",
       "      <td>1000</td>\n",
       "    </tr>\n",
       "    <tr>\n",
       "      <td>2017-01-06</td>\n",
       "      <td>10000</td>\n",
       "    </tr>\n",
       "    <tr>\n",
       "      <td>2017-01-06</td>\n",
       "      <td>20</td>\n",
       "    </tr>\n",
       "    <tr>\n",
       "      <td>2017-01-06</td>\n",
       "      <td>200</td>\n",
       "    </tr>\n",
       "    <tr>\n",
       "      <td>2017-01-06</td>\n",
       "      <td>100000</td>\n",
       "    </tr>\n",
       "    <tr>\n",
       "      <td>2017-01-06</td>\n",
       "      <td>2000</td>\n",
       "    </tr>\n",
       "    <tr>\n",
       "      <td>2017-01-06</td>\n",
       "      <td>20000</td>\n",
       "    </tr>\n",
       "    <tr>\n",
       "      <td>2017-01-06</td>\n",
       "      <td>700</td>\n",
       "    </tr>\n",
       "    <tr>\n",
       "      <td>2017-01-06</td>\n",
       "      <td>2</td>\n",
       "    </tr>\n",
       "    <tr>\n",
       "      <td>2017-01-06</td>\n",
       "      <td>3</td>\n",
       "    </tr>\n",
       "    <tr>\n",
       "      <td>2017-01-06</td>\n",
       "      <td>500</td>\n",
       "    </tr>\n",
       "    <tr>\n",
       "      <td>2017-01-06</td>\n",
       "      <td>10000</td>\n",
       "    </tr>\n",
       "    <tr>\n",
       "      <td>2017-01-06</td>\n",
       "      <td>8000</td>\n",
       "    </tr>\n",
       "    <tr>\n",
       "      <td>2017-01-06</td>\n",
       "      <td>2000</td>\n",
       "    </tr>\n",
       "    <tr>\n",
       "      <td>2017-01-06</td>\n",
       "      <td>20000</td>\n",
       "    </tr>\n",
       "    <tr>\n",
       "      <td>2017-01-06</td>\n",
       "      <td>300</td>\n",
       "    </tr>\n",
       "    <tr>\n",
       "      <td>2017-01-06</td>\n",
       "      <td>400</td>\n",
       "    </tr>\n",
       "    <tr>\n",
       "      <td>2017-01-09</td>\n",
       "      <td>4000</td>\n",
       "    </tr>\n",
       "    <tr>\n",
       "      <td>2017-01-09</td>\n",
       "      <td>148</td>\n",
       "    </tr>\n",
       "    <tr>\n",
       "      <td>2017-01-09</td>\n",
       "      <td>30</td>\n",
       "    </tr>\n",
       "  </tbody>\n",
       "</table>\n",
       "</div>"
      ],
      "text/plain": [
       "            Order_Demand\n",
       "Date                    \n",
       "2017-01-02            70\n",
       "2017-01-03           200\n",
       "2017-01-03          2000\n",
       "2017-01-03           200\n",
       "2017-01-04         10000\n",
       "2017-01-04          1000\n",
       "2017-01-04          3000\n",
       "2017-01-04          1000\n",
       "2017-01-04          1000\n",
       "2017-01-04          8000\n",
       "2017-01-04          5000\n",
       "2017-01-05          3000\n",
       "2017-01-05          1000\n",
       "2017-01-05             4\n",
       "2017-01-05          1000\n",
       "2017-01-05         30000\n",
       "2017-01-05          4000\n",
       "2017-01-05          1000\n",
       "2017-01-05          1000\n",
       "2017-01-05          2000\n",
       "2017-01-05          1500\n",
       "2017-01-05          1000\n",
       "2017-01-05           100\n",
       "2017-01-05         30000\n",
       "2017-01-05           300\n",
       "2017-01-05          1000\n",
       "2017-01-05            24\n",
       "2017-01-05          3000\n",
       "2017-01-05          3000\n",
       "2017-01-05          1000\n",
       "2017-01-06          1000\n",
       "2017-01-06         10000\n",
       "2017-01-06            20\n",
       "2017-01-06           200\n",
       "2017-01-06        100000\n",
       "2017-01-06          2000\n",
       "2017-01-06         20000\n",
       "2017-01-06           700\n",
       "2017-01-06             2\n",
       "2017-01-06             3\n",
       "2017-01-06           500\n",
       "2017-01-06         10000\n",
       "2017-01-06          8000\n",
       "2017-01-06          2000\n",
       "2017-01-06         20000\n",
       "2017-01-06           300\n",
       "2017-01-06           400\n",
       "2017-01-09          4000\n",
       "2017-01-09           148\n",
       "2017-01-09            30"
      ]
     },
     "execution_count": 20,
     "metadata": {},
     "output_type": "execute_result"
    }
   ],
   "source": [
    "# Index time series by year 2017\n",
    "ts['2017']"
   ]
  },
  {
   "cell_type": "markdown",
   "metadata": {},
   "source": [
    "We can see that for this year the data only go through to January 9th, so this is an incomplete year. \n",
    "\n",
    "For the sake of our modeling, we will remove 2011 from the data. Again let's visualize that here."
   ]
  },
  {
   "cell_type": "code",
   "execution_count": 21,
   "metadata": {},
   "outputs": [
    {
     "data": {
      "text/html": [
       "<div>\n",
       "<style scoped>\n",
       "    .dataframe tbody tr th:only-of-type {\n",
       "        vertical-align: middle;\n",
       "    }\n",
       "\n",
       "    .dataframe tbody tr th {\n",
       "        vertical-align: top;\n",
       "    }\n",
       "\n",
       "    .dataframe thead th {\n",
       "        text-align: right;\n",
       "    }\n",
       "</style>\n",
       "<table border=\"1\" class=\"dataframe\">\n",
       "  <thead>\n",
       "    <tr style=\"text-align: right;\">\n",
       "      <th></th>\n",
       "      <th>Order_Demand</th>\n",
       "    </tr>\n",
       "    <tr>\n",
       "      <th>Date</th>\n",
       "      <th></th>\n",
       "    </tr>\n",
       "  </thead>\n",
       "  <tbody>\n",
       "    <tr>\n",
       "      <td>2011</td>\n",
       "      <td>7509986</td>\n",
       "    </tr>\n",
       "    <tr>\n",
       "      <td>2012</td>\n",
       "      <td>941742907</td>\n",
       "    </tr>\n",
       "    <tr>\n",
       "      <td>2013</td>\n",
       "      <td>1009218798</td>\n",
       "    </tr>\n",
       "    <tr>\n",
       "      <td>2014</td>\n",
       "      <td>1065271479</td>\n",
       "    </tr>\n",
       "    <tr>\n",
       "      <td>2015</td>\n",
       "      <td>1095426177</td>\n",
       "    </tr>\n",
       "    <tr>\n",
       "      <td>2016</td>\n",
       "      <td>952219589</td>\n",
       "    </tr>\n",
       "    <tr>\n",
       "      <td>2017</td>\n",
       "      <td>294701</td>\n",
       "    </tr>\n",
       "  </tbody>\n",
       "</table>\n",
       "</div>"
      ],
      "text/plain": [
       "      Order_Demand\n",
       "Date              \n",
       "2011       7509986\n",
       "2012     941742907\n",
       "2013    1009218798\n",
       "2014    1065271479\n",
       "2015    1095426177\n",
       "2016     952219589\n",
       "2017        294701"
      ]
     },
     "execution_count": 21,
     "metadata": {},
     "output_type": "execute_result"
    }
   ],
   "source": [
    "ts_yr"
   ]
  },
  {
   "cell_type": "markdown",
   "metadata": {},
   "source": [
    "We can see that for those years with data for every day, which are years 2012-2016, the order demand is pretty consistent, with 2012 and 2016 being only slightly lower, and 2017 representing only 9 days of the year. \n",
    "\n",
    "So let's go ahead and drop 2011 from our dataset. Since we end up using monthly grouping as we get into modeling, I'm going to remove 2017 as well as it only has data for the first 9 days."
   ]
  },
  {
   "cell_type": "code",
   "execution_count": 22,
   "metadata": {},
   "outputs": [
    {
     "data": {
      "text/html": [
       "<div>\n",
       "<style scoped>\n",
       "    .dataframe tbody tr th:only-of-type {\n",
       "        vertical-align: middle;\n",
       "    }\n",
       "\n",
       "    .dataframe tbody tr th {\n",
       "        vertical-align: top;\n",
       "    }\n",
       "\n",
       "    .dataframe thead th {\n",
       "        text-align: right;\n",
       "    }\n",
       "</style>\n",
       "<table border=\"1\" class=\"dataframe\">\n",
       "  <thead>\n",
       "    <tr style=\"text-align: right;\">\n",
       "      <th></th>\n",
       "      <th>Product_Code</th>\n",
       "      <th>Warehouse</th>\n",
       "      <th>Product_Category</th>\n",
       "      <th>Order_Demand</th>\n",
       "    </tr>\n",
       "    <tr>\n",
       "      <th>Date</th>\n",
       "      <th></th>\n",
       "      <th></th>\n",
       "      <th></th>\n",
       "      <th></th>\n",
       "    </tr>\n",
       "  </thead>\n",
       "  <tbody>\n",
       "    <tr>\n",
       "      <td>2012-01-01</td>\n",
       "      <td>Product_2166</td>\n",
       "      <td>Whse_S</td>\n",
       "      <td>Category_024</td>\n",
       "      <td>2</td>\n",
       "    </tr>\n",
       "    <tr>\n",
       "      <td>2012-01-02</td>\n",
       "      <td>Product_0664</td>\n",
       "      <td>Whse_S</td>\n",
       "      <td>Category_011</td>\n",
       "      <td>20</td>\n",
       "    </tr>\n",
       "    <tr>\n",
       "      <td>2012-01-02</td>\n",
       "      <td>Product_1431</td>\n",
       "      <td>Whse_S</td>\n",
       "      <td>Category_019</td>\n",
       "      <td>20000</td>\n",
       "    </tr>\n",
       "    <tr>\n",
       "      <td>2012-01-02</td>\n",
       "      <td>Product_1631</td>\n",
       "      <td>Whse_S</td>\n",
       "      <td>Category_019</td>\n",
       "      <td>1000</td>\n",
       "    </tr>\n",
       "    <tr>\n",
       "      <td>2012-01-02</td>\n",
       "      <td>Product_1567</td>\n",
       "      <td>Whse_S</td>\n",
       "      <td>Category_019</td>\n",
       "      <td>68000</td>\n",
       "    </tr>\n",
       "  </tbody>\n",
       "</table>\n",
       "</div>"
      ],
      "text/plain": [
       "            Product_Code Warehouse Product_Category  Order_Demand\n",
       "Date                                                             \n",
       "2012-01-01  Product_2166    Whse_S     Category_024             2\n",
       "2012-01-02  Product_0664    Whse_S     Category_011            20\n",
       "2012-01-02  Product_1431    Whse_S     Category_019         20000\n",
       "2012-01-02  Product_1631    Whse_S     Category_019          1000\n",
       "2012-01-02  Product_1567    Whse_S     Category_019         68000"
      ]
     },
     "metadata": {},
     "output_type": "display_data"
    },
    {
     "data": {
      "text/html": [
       "<div>\n",
       "<style scoped>\n",
       "    .dataframe tbody tr th:only-of-type {\n",
       "        vertical-align: middle;\n",
       "    }\n",
       "\n",
       "    .dataframe tbody tr th {\n",
       "        vertical-align: top;\n",
       "    }\n",
       "\n",
       "    .dataframe thead th {\n",
       "        text-align: right;\n",
       "    }\n",
       "</style>\n",
       "<table border=\"1\" class=\"dataframe\">\n",
       "  <thead>\n",
       "    <tr style=\"text-align: right;\">\n",
       "      <th></th>\n",
       "      <th>Product_Code</th>\n",
       "      <th>Warehouse</th>\n",
       "      <th>Product_Category</th>\n",
       "      <th>Order_Demand</th>\n",
       "    </tr>\n",
       "    <tr>\n",
       "      <th>Date</th>\n",
       "      <th></th>\n",
       "      <th></th>\n",
       "      <th></th>\n",
       "      <th></th>\n",
       "    </tr>\n",
       "  </thead>\n",
       "  <tbody>\n",
       "    <tr>\n",
       "      <td>2016-12-30</td>\n",
       "      <td>Product_1513</td>\n",
       "      <td>Whse_A</td>\n",
       "      <td>Category_019</td>\n",
       "      <td>100</td>\n",
       "    </tr>\n",
       "    <tr>\n",
       "      <td>2016-12-30</td>\n",
       "      <td>Product_1431</td>\n",
       "      <td>Whse_S</td>\n",
       "      <td>Category_019</td>\n",
       "      <td>15000</td>\n",
       "    </tr>\n",
       "    <tr>\n",
       "      <td>2016-12-30</td>\n",
       "      <td>Product_1263</td>\n",
       "      <td>Whse_S</td>\n",
       "      <td>Category_019</td>\n",
       "      <td>15000</td>\n",
       "    </tr>\n",
       "    <tr>\n",
       "      <td>2016-12-30</td>\n",
       "      <td>Product_1419</td>\n",
       "      <td>Whse_A</td>\n",
       "      <td>Category_019</td>\n",
       "      <td>2300</td>\n",
       "    </tr>\n",
       "    <tr>\n",
       "      <td>2016-12-30</td>\n",
       "      <td>Product_1416</td>\n",
       "      <td>Whse_A</td>\n",
       "      <td>Category_019</td>\n",
       "      <td>23000</td>\n",
       "    </tr>\n",
       "  </tbody>\n",
       "</table>\n",
       "</div>"
      ],
      "text/plain": [
       "            Product_Code Warehouse Product_Category  Order_Demand\n",
       "Date                                                             \n",
       "2016-12-30  Product_1513    Whse_A     Category_019           100\n",
       "2016-12-30  Product_1431    Whse_S     Category_019         15000\n",
       "2016-12-30  Product_1263    Whse_S     Category_019         15000\n",
       "2016-12-30  Product_1419    Whse_A     Category_019          2300\n",
       "2016-12-30  Product_1416    Whse_A     Category_019         23000"
      ]
     },
     "metadata": {},
     "output_type": "display_data"
    }
   ],
   "source": [
    "# Slice 2012 - 2016\n",
    "ts_df = ts_df['2012':'2016']\n",
    "# Preview\n",
    "display(ts_df.head())\n",
    "display(ts_df.tail())"
   ]
  },
  {
   "cell_type": "markdown",
   "metadata": {},
   "source": [
    "Looks great! Now we can get to building our baseline model and predicting overall demand. This should be pretty easy to do as we can already see there seems to be an overall consistent amount of demand year over year with all warehouses combined.\n",
    "\n",
    "As we move further along we can group by warehouse, and depending how many products there are, we can group by product as well. We already know which warehouses are most productive, as we saw early on when we were cleaning and exploring our data.\n",
    "\n",
    "Let's go ahead and take a look again."
   ]
  },
  {
   "cell_type": "markdown",
   "metadata": {},
   "source": [
    "### Warehouse"
   ]
  },
  {
   "cell_type": "markdown",
   "metadata": {},
   "source": [
    "#### Value Counts"
   ]
  },
  {
   "cell_type": "code",
   "execution_count": 23,
   "metadata": {},
   "outputs": [
    {
     "data": {
      "text/plain": [
       "Whse_J    715714\n",
       "Whse_A    142197\n",
       "Whse_S     87951\n",
       "Whse_C     42207\n",
       "Name: Warehouse, dtype: int64"
      ]
     },
     "execution_count": 23,
     "metadata": {},
     "output_type": "execute_result"
    }
   ],
   "source": [
    "ts_df.Warehouse.value_counts()"
   ]
  },
  {
   "cell_type": "markdown",
   "metadata": {},
   "source": [
    "We can see warehouse J has the most orders, not necessarily demand, as demand includes the amount in each order, however we can see warehouse J seems to be the highest volume producing warehouse. \n",
    "\n",
    "It could be larger in size, serve a larger region and/or have been established as the first or main warehouse (earlier on). "
   ]
  },
  {
   "cell_type": "code",
   "execution_count": 24,
   "metadata": {},
   "outputs": [
    {
     "data": {
      "text/html": [
       "<div>\n",
       "<style scoped>\n",
       "    .dataframe tbody tr th:only-of-type {\n",
       "        vertical-align: middle;\n",
       "    }\n",
       "\n",
       "    .dataframe tbody tr th {\n",
       "        vertical-align: top;\n",
       "    }\n",
       "\n",
       "    .dataframe thead th {\n",
       "        text-align: right;\n",
       "    }\n",
       "</style>\n",
       "<table border=\"1\" class=\"dataframe\">\n",
       "  <thead>\n",
       "    <tr style=\"text-align: right;\">\n",
       "      <th></th>\n",
       "      <th>Product_Code</th>\n",
       "      <th>Warehouse</th>\n",
       "      <th>Product_Category</th>\n",
       "      <th>Order_Demand</th>\n",
       "    </tr>\n",
       "    <tr>\n",
       "      <th>Date</th>\n",
       "      <th></th>\n",
       "      <th></th>\n",
       "      <th></th>\n",
       "      <th></th>\n",
       "    </tr>\n",
       "  </thead>\n",
       "  <tbody>\n",
       "    <tr>\n",
       "      <td>2012-01-04</td>\n",
       "      <td>Product_1056</td>\n",
       "      <td>Whse_J</td>\n",
       "      <td>Category_032</td>\n",
       "      <td>120</td>\n",
       "    </tr>\n",
       "    <tr>\n",
       "      <td>2012-01-05</td>\n",
       "      <td>Product_0197</td>\n",
       "      <td>Whse_J</td>\n",
       "      <td>Category_007</td>\n",
       "      <td>100</td>\n",
       "    </tr>\n",
       "    <tr>\n",
       "      <td>2012-01-05</td>\n",
       "      <td>Product_0299</td>\n",
       "      <td>Whse_J</td>\n",
       "      <td>Category_015</td>\n",
       "      <td>12</td>\n",
       "    </tr>\n",
       "    <tr>\n",
       "      <td>2012-01-05</td>\n",
       "      <td>Product_1359</td>\n",
       "      <td>Whse_J</td>\n",
       "      <td>Category_019</td>\n",
       "      <td>5000</td>\n",
       "    </tr>\n",
       "    <tr>\n",
       "      <td>2012-01-05</td>\n",
       "      <td>Product_0943</td>\n",
       "      <td>Whse_J</td>\n",
       "      <td>Category_005</td>\n",
       "      <td>1000</td>\n",
       "    </tr>\n",
       "    <tr>\n",
       "      <td>...</td>\n",
       "      <td>...</td>\n",
       "      <td>...</td>\n",
       "      <td>...</td>\n",
       "      <td>...</td>\n",
       "    </tr>\n",
       "    <tr>\n",
       "      <td>2016-12-29</td>\n",
       "      <td>Product_1661</td>\n",
       "      <td>Whse_J</td>\n",
       "      <td>Category_026</td>\n",
       "      <td>12</td>\n",
       "    </tr>\n",
       "    <tr>\n",
       "      <td>2016-12-29</td>\n",
       "      <td>Product_0088</td>\n",
       "      <td>Whse_J</td>\n",
       "      <td>Category_019</td>\n",
       "      <td>300</td>\n",
       "    </tr>\n",
       "    <tr>\n",
       "      <td>2016-12-29</td>\n",
       "      <td>Product_0956</td>\n",
       "      <td>Whse_J</td>\n",
       "      <td>Category_028</td>\n",
       "      <td>5</td>\n",
       "    </tr>\n",
       "    <tr>\n",
       "      <td>2016-12-29</td>\n",
       "      <td>Product_1923</td>\n",
       "      <td>Whse_J</td>\n",
       "      <td>Category_001</td>\n",
       "      <td>3</td>\n",
       "    </tr>\n",
       "    <tr>\n",
       "      <td>2016-12-29</td>\n",
       "      <td>Product_1878</td>\n",
       "      <td>Whse_J</td>\n",
       "      <td>Category_005</td>\n",
       "      <td>300</td>\n",
       "    </tr>\n",
       "  </tbody>\n",
       "</table>\n",
       "<p>715714 rows × 4 columns</p>\n",
       "</div>"
      ],
      "text/plain": [
       "            Product_Code Warehouse Product_Category  Order_Demand\n",
       "Date                                                             \n",
       "2012-01-04  Product_1056    Whse_J     Category_032           120\n",
       "2012-01-05  Product_0197    Whse_J     Category_007           100\n",
       "2012-01-05  Product_0299    Whse_J     Category_015            12\n",
       "2012-01-05  Product_1359    Whse_J     Category_019          5000\n",
       "2012-01-05  Product_0943    Whse_J     Category_005          1000\n",
       "...                  ...       ...              ...           ...\n",
       "2016-12-29  Product_1661    Whse_J     Category_026            12\n",
       "2016-12-29  Product_0088    Whse_J     Category_019           300\n",
       "2016-12-29  Product_0956    Whse_J     Category_028             5\n",
       "2016-12-29  Product_1923    Whse_J     Category_001             3\n",
       "2016-12-29  Product_1878    Whse_J     Category_005           300\n",
       "\n",
       "[715714 rows x 4 columns]"
      ]
     },
     "execution_count": 24,
     "metadata": {},
     "output_type": "execute_result"
    }
   ],
   "source": [
    "whse_j = ts_df[ts_df.Warehouse == 'Whse_J']\n",
    "whse_j"
   ]
  },
  {
   "cell_type": "markdown",
   "metadata": {},
   "source": [
    "#### Product Demand"
   ]
  },
  {
   "cell_type": "code",
   "execution_count": 25,
   "metadata": {},
   "outputs": [
    {
     "data": {
      "image/png": "[encoded data removed]",
      "text/plain": [
       "<Figure size 1152x576 with 1 Axes>"
      ]
     },
     "metadata": {
      "needs_background": "light"
     },
     "output_type": "display_data"
    }
   ],
   "source": [
    "# Set figure size\n",
    "plt.figure(figsize=(16,8))\n",
    "# Box plot\n",
    "sns.boxplot(ts_df['Warehouse'], np.log1p(ts_df['Order_Demand']))\n",
    "plt.show()"
   ]
  },
  {
   "cell_type": "markdown",
   "metadata": {},
   "source": [
    "We can see the order here of the most productive warehouses, with J and A in the lead. J by a landslide. S and C being much lower in production. Possibly smaller and servicing more satelite regions. \n",
    "\n",
    "Let's take a look at the same, but for products. "
   ]
  },
  {
   "cell_type": "markdown",
   "metadata": {},
   "source": [
    "### Products"
   ]
  },
  {
   "cell_type": "markdown",
   "metadata": {},
   "source": [
    "#### Product Count\n",
    "\n",
    "Let's see how many products there are in total."
   ]
  },
  {
   "cell_type": "code",
   "execution_count": 26,
   "metadata": {},
   "outputs": [
    {
     "name": "stdout",
     "output_type": "stream",
     "text": [
      "There are 2157 products\n"
     ]
    }
   ],
   "source": [
    "print(f\"There are {len(ts_df.Product_Code.unique())} products\")"
   ]
  },
  {
   "cell_type": "markdown",
   "metadata": {},
   "source": [
    "Let's take a look at the demand now."
   ]
  },
  {
   "cell_type": "markdown",
   "metadata": {},
   "source": [
    "#### Product Demand\n",
    "\n",
    "We're going to sum lifetime product demand by product code and then preview it before visualizing. "
   ]
  },
  {
   "cell_type": "code",
   "execution_count": 27,
   "metadata": {},
   "outputs": [
    {
     "name": "stdout",
     "output_type": "stream",
     "text": [
      "Top 20 Products:\n"
     ]
    },
    {
     "data": {
      "text/html": [
       "<div>\n",
       "<style scoped>\n",
       "    .dataframe tbody tr th:only-of-type {\n",
       "        vertical-align: middle;\n",
       "    }\n",
       "\n",
       "    .dataframe tbody tr th {\n",
       "        vertical-align: top;\n",
       "    }\n",
       "\n",
       "    .dataframe thead th {\n",
       "        text-align: right;\n",
       "    }\n",
       "</style>\n",
       "<table border=\"1\" class=\"dataframe\">\n",
       "  <thead>\n",
       "    <tr style=\"text-align: right;\">\n",
       "      <th></th>\n",
       "      <th>Order_Demand</th>\n",
       "    </tr>\n",
       "    <tr>\n",
       "      <th>Product_Code</th>\n",
       "      <th></th>\n",
       "    </tr>\n",
       "  </thead>\n",
       "  <tbody>\n",
       "    <tr>\n",
       "      <td>Product_1359</td>\n",
       "      <td>469665000</td>\n",
       "    </tr>\n",
       "    <tr>\n",
       "      <td>Product_1248</td>\n",
       "      <td>287829000</td>\n",
       "    </tr>\n",
       "    <tr>\n",
       "      <td>Product_0083</td>\n",
       "      <td>210303000</td>\n",
       "    </tr>\n",
       "    <tr>\n",
       "      <td>Product_1341</td>\n",
       "      <td>166411000</td>\n",
       "    </tr>\n",
       "    <tr>\n",
       "      <td>Product_1295</td>\n",
       "      <td>121852300</td>\n",
       "    </tr>\n",
       "    <tr>\n",
       "      <td>Product_1241</td>\n",
       "      <td>115850000</td>\n",
       "    </tr>\n",
       "    <tr>\n",
       "      <td>Product_1245</td>\n",
       "      <td>102037000</td>\n",
       "    </tr>\n",
       "    <tr>\n",
       "      <td>Product_1286</td>\n",
       "      <td>101241700</td>\n",
       "    </tr>\n",
       "    <tr>\n",
       "      <td>Product_1432</td>\n",
       "      <td>96773000</td>\n",
       "    </tr>\n",
       "    <tr>\n",
       "      <td>Product_1274</td>\n",
       "      <td>92452000</td>\n",
       "    </tr>\n",
       "    <tr>\n",
       "      <td>Product_1451</td>\n",
       "      <td>91721000</td>\n",
       "    </tr>\n",
       "    <tr>\n",
       "      <td>Product_1287</td>\n",
       "      <td>88317200</td>\n",
       "    </tr>\n",
       "    <tr>\n",
       "      <td>Product_1378</td>\n",
       "      <td>83178400</td>\n",
       "    </tr>\n",
       "    <tr>\n",
       "      <td>Product_1382</td>\n",
       "      <td>81479500</td>\n",
       "    </tr>\n",
       "    <tr>\n",
       "      <td>Product_1264</td>\n",
       "      <td>80067000</td>\n",
       "    </tr>\n",
       "    <tr>\n",
       "      <td>Product_1294</td>\n",
       "      <td>77937600</td>\n",
       "    </tr>\n",
       "    <tr>\n",
       "      <td>Product_1480</td>\n",
       "      <td>77786000</td>\n",
       "    </tr>\n",
       "    <tr>\n",
       "      <td>Product_1350</td>\n",
       "      <td>76133000</td>\n",
       "    </tr>\n",
       "    <tr>\n",
       "      <td>Product_1016</td>\n",
       "      <td>72991300</td>\n",
       "    </tr>\n",
       "    <tr>\n",
       "      <td>Product_1453</td>\n",
       "      <td>70218700</td>\n",
       "    </tr>\n",
       "  </tbody>\n",
       "</table>\n",
       "</div>"
      ],
      "text/plain": [
       "              Order_Demand\n",
       "Product_Code              \n",
       "Product_1359     469665000\n",
       "Product_1248     287829000\n",
       "Product_0083     210303000\n",
       "Product_1341     166411000\n",
       "Product_1295     121852300\n",
       "Product_1241     115850000\n",
       "Product_1245     102037000\n",
       "Product_1286     101241700\n",
       "Product_1432      96773000\n",
       "Product_1274      92452000\n",
       "Product_1451      91721000\n",
       "Product_1287      88317200\n",
       "Product_1378      83178400\n",
       "Product_1382      81479500\n",
       "Product_1264      80067000\n",
       "Product_1294      77937600\n",
       "Product_1480      77786000\n",
       "Product_1350      76133000\n",
       "Product_1016      72991300\n",
       "Product_1453      70218700"
      ]
     },
     "metadata": {},
     "output_type": "display_data"
    }
   ],
   "source": [
    "# Group by product code\n",
    "prod_sum_demand = ts_df.groupby(by=[\"Product_Code\"]).sum()\n",
    "# Sort descending \n",
    "prod_sum_demand = prod_sum_demand.sort_values(by='Order_Demand', ascending=False)\n",
    "# Take a look at the top 20\n",
    "print(\"Top 20 Products:\")\n",
    "display(prod_sum_demand[0:20])"
   ]
  },
  {
   "cell_type": "markdown",
   "metadata": {},
   "source": [
    "The top products appear to start out pretty high, possibly exponential and then taper out to a slower more linear decrease. \n",
    "\n",
    "Let's go ahead and plot the top 100 products so we can observe the trend visually. \n",
    "\n",
    "#### Top 100 Products"
   ]
  },
  {
   "cell_type": "code",
   "execution_count": 28,
   "metadata": {},
   "outputs": [
    {
     "data": {
      "image/png": "[encoded data removed]",
      "text/plain": [
       "<Figure size 1440x576 with 1 Axes>"
      ]
     },
     "metadata": {
      "needs_background": "light"
     },
     "output_type": "display_data"
    }
   ],
   "source": [
    "# x-labels\n",
    "labels = prod_sum_demand.index[0:100]\n",
    "# x-values\n",
    "products = list(range(0,len(labels)))\n",
    "# y-values\n",
    "order_demand = prod_sum_demand.Order_Demand[0:100]\n",
    "\n",
    "# Plot \n",
    "# Set figure\n",
    "plt.figure(figsize=(20,8))\n",
    "# Prevent extra whitespace \n",
    "plt.margins(0.01)\n",
    "# Plot\n",
    "plt.bar(products, order_demand, align='center')\n",
    "# Add labels & rotate 90 degrees\n",
    "plt.xticks(products, labels, rotation = 90)\n",
    "plt.title('Top 100 Products')\n",
    "plt.ylabel('Lifetime Order Demand')\n",
    "plt.xlabel('Product')\n",
    "plt.show()"
   ]
  },
  {
   "cell_type": "markdown",
   "metadata": {},
   "source": [
    "We can see how much the demand for products tapers off. Considering this plot shows lifetime demand as well as only the top 100 out of over 2000, there may be many products with demand lower than what would justify stocking or keeping the product on the floor. \n",
    "\n",
    "Let's take a closer look at that."
   ]
  },
  {
   "cell_type": "code",
   "execution_count": 29,
   "metadata": {},
   "outputs": [
    {
     "data": {
      "text/html": [
       "<div>\n",
       "<style scoped>\n",
       "    .dataframe tbody tr th:only-of-type {\n",
       "        vertical-align: middle;\n",
       "    }\n",
       "\n",
       "    .dataframe tbody tr th {\n",
       "        vertical-align: top;\n",
       "    }\n",
       "\n",
       "    .dataframe thead th {\n",
       "        text-align: right;\n",
       "    }\n",
       "</style>\n",
       "<table border=\"1\" class=\"dataframe\">\n",
       "  <thead>\n",
       "    <tr style=\"text-align: right;\">\n",
       "      <th></th>\n",
       "      <th>Order_Demand</th>\n",
       "    </tr>\n",
       "    <tr>\n",
       "      <th>Product_Code</th>\n",
       "      <th></th>\n",
       "    </tr>\n",
       "  </thead>\n",
       "  <tbody>\n",
       "    <tr>\n",
       "      <td>Product_0638</td>\n",
       "      <td>22</td>\n",
       "    </tr>\n",
       "    <tr>\n",
       "      <td>Product_0633</td>\n",
       "      <td>21</td>\n",
       "    </tr>\n",
       "    <tr>\n",
       "      <td>Product_0244</td>\n",
       "      <td>20</td>\n",
       "    </tr>\n",
       "    <tr>\n",
       "      <td>Product_0647</td>\n",
       "      <td>19</td>\n",
       "    </tr>\n",
       "    <tr>\n",
       "      <td>Product_1863</td>\n",
       "      <td>18</td>\n",
       "    </tr>\n",
       "    <tr>\n",
       "      <td>Product_0466</td>\n",
       "      <td>15</td>\n",
       "    </tr>\n",
       "    <tr>\n",
       "      <td>Product_2151</td>\n",
       "      <td>5</td>\n",
       "    </tr>\n",
       "    <tr>\n",
       "      <td>Product_0465</td>\n",
       "      <td>3</td>\n",
       "    </tr>\n",
       "    <tr>\n",
       "      <td>Product_1703</td>\n",
       "      <td>2</td>\n",
       "    </tr>\n",
       "    <tr>\n",
       "      <td>Product_1698</td>\n",
       "      <td>2</td>\n",
       "    </tr>\n",
       "  </tbody>\n",
       "</table>\n",
       "</div>"
      ],
      "text/plain": [
       "              Order_Demand\n",
       "Product_Code              \n",
       "Product_0638            22\n",
       "Product_0633            21\n",
       "Product_0244            20\n",
       "Product_0647            19\n",
       "Product_1863            18\n",
       "Product_0466            15\n",
       "Product_2151             5\n",
       "Product_0465             3\n",
       "Product_1703             2\n",
       "Product_1698             2"
      ]
     },
     "execution_count": 29,
     "metadata": {},
     "output_type": "execute_result"
    }
   ],
   "source": [
    "# Print 10 lowest demand products\n",
    "prod_sum_demand.tail(10)"
   ]
  },
  {
   "cell_type": "markdown",
   "metadata": {},
   "source": [
    "The manufacturer could most likely save costs by freeing up floor space with the elimination of lower demand products. This would make space for more in demand products and perhaps new products. Or perhaps even downsizing of the facility and staff to only optimize for top producing products.\n",
    "\n",
    "While this isn't the main focus of this study, I will include it as a recommendation in the future work section. "
   ]
  },
  {
   "cell_type": "markdown",
   "metadata": {},
   "source": [
    "#### Top 50 Products"
   ]
  },
  {
   "cell_type": "code",
   "execution_count": 30,
   "metadata": {},
   "outputs": [
    {
     "data": {
      "image/png": "[encoded data removed]",
      "text/plain": [
       "<Figure size 1440x576 with 1 Axes>"
      ]
     },
     "metadata": {
      "needs_background": "light"
     },
     "output_type": "display_data"
    }
   ],
   "source": [
    "# x-labels\n",
    "labels = prod_sum_demand.index[0:50]\n",
    "# x-values\n",
    "products = list(range(0,len(labels)))\n",
    "# y-values\n",
    "order_demand = prod_sum_demand.Order_Demand[0:50]\n",
    "\n",
    "# Plot \n",
    "# Set figure\n",
    "plt.figure(figsize=(20,8))\n",
    "# Prevent extra whitespace \n",
    "plt.margins(0.01)\n",
    "# Plot\n",
    "plt.bar(products, order_demand, align='center')\n",
    "# Add labels & rotate 90 degrees\n",
    "plt.xticks(products, labels, rotation = 90)\n",
    "plt.title('Top 50 Products')\n",
    "plt.ylabel('Lifetime Order Demand')\n",
    "plt.xlabel('Product')\n",
    "plt.show()"
   ]
  },
  {
   "cell_type": "markdown",
   "metadata": {},
   "source": [
    "#### Discussion\n",
    "\n",
    "**Low Demand Inventory**\n",
    "\n",
    "We could see in this section visually that a small percentage of available products make up a very large proportion of orders. If we had more detailed information such as profits from each product, we could do a more detailed analysis here to make suggestions on which products to cut from which warehouses.\n",
    "\n",
    "In an even more detailed analysis it would be good to know footprint of the warehouse as well as number of employees and cost of employees so we could see where things could be culled down and streamlined. How much money can be saved and profits increased. \n",
    "\n",
    "If warehouses were to focus on fewer products which make up the greatest amount of orders/profit, could they then hold more stock of the most popular product and increase demand in other ways, such as advertising and saving money on larger purchase orders/more stock/inventory held? \n",
    "\n",
    "As this analysis is focused on predicting demand, we will focus on that for now, but will mention the above in future work.\n",
    "\n",
    "**Top Demand Inventory**\n",
    "\n",
    "For now let's focus on first modeling and predicting demand for the top most ordered product, and then the model or model-building process can be applied to other products.\n",
    "\n",
    "Since a warehouse is most likely to run out of the most in-demand product and it is imagined that this would also be one of the most highly profitable products, it makes sense that we would focus on the most ordered product(s) first as these would be the most high-impact products."
   ]
  },
  {
   "cell_type": "markdown",
   "metadata": {},
   "source": [
    "#### Low Demand Preview\n",
    "\n",
    "Let's take a closer look at some of the individual lower-demand products to gain insights into the products, categories, warehouses and anything else we may gather."
   ]
  },
  {
   "cell_type": "code",
   "execution_count": 31,
   "metadata": {},
   "outputs": [
    {
     "name": "stdout",
     "output_type": "stream",
     "text": [
      "Product_1698:\n"
     ]
    },
    {
     "data": {
      "text/html": [
       "<div>\n",
       "<style scoped>\n",
       "    .dataframe tbody tr th:only-of-type {\n",
       "        vertical-align: middle;\n",
       "    }\n",
       "\n",
       "    .dataframe tbody tr th {\n",
       "        vertical-align: top;\n",
       "    }\n",
       "\n",
       "    .dataframe thead th {\n",
       "        text-align: right;\n",
       "    }\n",
       "</style>\n",
       "<table border=\"1\" class=\"dataframe\">\n",
       "  <thead>\n",
       "    <tr style=\"text-align: right;\">\n",
       "      <th></th>\n",
       "      <th>Product_Code</th>\n",
       "      <th>Warehouse</th>\n",
       "      <th>Product_Category</th>\n",
       "      <th>Order_Demand</th>\n",
       "    </tr>\n",
       "    <tr>\n",
       "      <th>Date</th>\n",
       "      <th></th>\n",
       "      <th></th>\n",
       "      <th></th>\n",
       "      <th></th>\n",
       "    </tr>\n",
       "  </thead>\n",
       "  <tbody>\n",
       "    <tr>\n",
       "      <td>2012-10-12</td>\n",
       "      <td>Product_1698</td>\n",
       "      <td>Whse_A</td>\n",
       "      <td>Category_021</td>\n",
       "      <td>1</td>\n",
       "    </tr>\n",
       "    <tr>\n",
       "      <td>2016-08-29</td>\n",
       "      <td>Product_1698</td>\n",
       "      <td>Whse_A</td>\n",
       "      <td>Category_021</td>\n",
       "      <td>1</td>\n",
       "    </tr>\n",
       "  </tbody>\n",
       "</table>\n",
       "</div>"
      ],
      "text/plain": [
       "            Product_Code Warehouse Product_Category  Order_Demand\n",
       "Date                                                             \n",
       "2012-10-12  Product_1698    Whse_A     Category_021             1\n",
       "2016-08-29  Product_1698    Whse_A     Category_021             1"
      ]
     },
     "metadata": {},
     "output_type": "display_data"
    },
    {
     "name": "stdout",
     "output_type": "stream",
     "text": [
      " \n",
      "Product_1703:\n"
     ]
    },
    {
     "data": {
      "text/html": [
       "<div>\n",
       "<style scoped>\n",
       "    .dataframe tbody tr th:only-of-type {\n",
       "        vertical-align: middle;\n",
       "    }\n",
       "\n",
       "    .dataframe tbody tr th {\n",
       "        vertical-align: top;\n",
       "    }\n",
       "\n",
       "    .dataframe thead th {\n",
       "        text-align: right;\n",
       "    }\n",
       "</style>\n",
       "<table border=\"1\" class=\"dataframe\">\n",
       "  <thead>\n",
       "    <tr style=\"text-align: right;\">\n",
       "      <th></th>\n",
       "      <th>Product_Code</th>\n",
       "      <th>Warehouse</th>\n",
       "      <th>Product_Category</th>\n",
       "      <th>Order_Demand</th>\n",
       "    </tr>\n",
       "    <tr>\n",
       "      <th>Date</th>\n",
       "      <th></th>\n",
       "      <th></th>\n",
       "      <th></th>\n",
       "      <th></th>\n",
       "    </tr>\n",
       "  </thead>\n",
       "  <tbody>\n",
       "    <tr>\n",
       "      <td>2015-10-08</td>\n",
       "      <td>Product_1703</td>\n",
       "      <td>Whse_A</td>\n",
       "      <td>Category_021</td>\n",
       "      <td>2</td>\n",
       "    </tr>\n",
       "  </tbody>\n",
       "</table>\n",
       "</div>"
      ],
      "text/plain": [
       "            Product_Code Warehouse Product_Category  Order_Demand\n",
       "Date                                                             \n",
       "2015-10-08  Product_1703    Whse_A     Category_021             2"
      ]
     },
     "metadata": {},
     "output_type": "display_data"
    },
    {
     "name": "stdout",
     "output_type": "stream",
     "text": [
      " \n",
      "Product_0465:\n"
     ]
    },
    {
     "data": {
      "text/html": [
       "<div>\n",
       "<style scoped>\n",
       "    .dataframe tbody tr th:only-of-type {\n",
       "        vertical-align: middle;\n",
       "    }\n",
       "\n",
       "    .dataframe tbody tr th {\n",
       "        vertical-align: top;\n",
       "    }\n",
       "\n",
       "    .dataframe thead th {\n",
       "        text-align: right;\n",
       "    }\n",
       "</style>\n",
       "<table border=\"1\" class=\"dataframe\">\n",
       "  <thead>\n",
       "    <tr style=\"text-align: right;\">\n",
       "      <th></th>\n",
       "      <th>Product_Code</th>\n",
       "      <th>Warehouse</th>\n",
       "      <th>Product_Category</th>\n",
       "      <th>Order_Demand</th>\n",
       "    </tr>\n",
       "    <tr>\n",
       "      <th>Date</th>\n",
       "      <th></th>\n",
       "      <th></th>\n",
       "      <th></th>\n",
       "      <th></th>\n",
       "    </tr>\n",
       "  </thead>\n",
       "  <tbody>\n",
       "    <tr>\n",
       "      <td>2016-08-02</td>\n",
       "      <td>Product_0465</td>\n",
       "      <td>Whse_A</td>\n",
       "      <td>Category_012</td>\n",
       "      <td>3</td>\n",
       "    </tr>\n",
       "  </tbody>\n",
       "</table>\n",
       "</div>"
      ],
      "text/plain": [
       "            Product_Code Warehouse Product_Category  Order_Demand\n",
       "Date                                                             \n",
       "2016-08-02  Product_0465    Whse_A     Category_012             3"
      ]
     },
     "metadata": {},
     "output_type": "display_data"
    },
    {
     "name": "stdout",
     "output_type": "stream",
     "text": [
      " \n"
     ]
    }
   ],
   "source": [
    "bottom_prods = ['Product_1698','Product_1703','Product_0465']\n",
    "for prod in bottom_prods:\n",
    "    print(f\"{prod}:\")\n",
    "    display(ts_df[ts_df.Product_Code == prod])\n",
    "    print(f\" \")"
   ]
  },
  {
   "cell_type": "markdown",
   "metadata": {},
   "source": [
    "We can see some of these have pretty sparse orders. For example the first product with one order being in 2012 and the next being in 2016 with only one product per order each.\n",
    "\n",
    "So far they're all from Warehouse A, which is the second highest producing warehouse, so it wouldn't make sense for them to carry these products that have very little demand, yet take up valuable space.\n",
    "\n",
    "It would only make sense if they were high paying custom orders or something related. \n",
    "\n",
    "Let's take a look at the top product and move forward in our modeling as previously discussed."
   ]
  },
  {
   "cell_type": "markdown",
   "metadata": {},
   "source": [
    "#### Top Product"
   ]
  },
  {
   "cell_type": "code",
   "execution_count": 32,
   "metadata": {},
   "outputs": [
    {
     "data": {
      "text/html": [
       "<div>\n",
       "<style scoped>\n",
       "    .dataframe tbody tr th:only-of-type {\n",
       "        vertical-align: middle;\n",
       "    }\n",
       "\n",
       "    .dataframe tbody tr th {\n",
       "        vertical-align: top;\n",
       "    }\n",
       "\n",
       "    .dataframe thead th {\n",
       "        text-align: right;\n",
       "    }\n",
       "</style>\n",
       "<table border=\"1\" class=\"dataframe\">\n",
       "  <thead>\n",
       "    <tr style=\"text-align: right;\">\n",
       "      <th></th>\n",
       "      <th>Product_Code</th>\n",
       "      <th>Warehouse</th>\n",
       "      <th>Product_Category</th>\n",
       "      <th>Order_Demand</th>\n",
       "    </tr>\n",
       "    <tr>\n",
       "      <th>Date</th>\n",
       "      <th></th>\n",
       "      <th></th>\n",
       "      <th></th>\n",
       "      <th></th>\n",
       "    </tr>\n",
       "  </thead>\n",
       "  <tbody>\n",
       "    <tr>\n",
       "      <td>2012-01-05</td>\n",
       "      <td>Product_1359</td>\n",
       "      <td>Whse_J</td>\n",
       "      <td>Category_019</td>\n",
       "      <td>5000</td>\n",
       "    </tr>\n",
       "    <tr>\n",
       "      <td>2012-01-05</td>\n",
       "      <td>Product_1359</td>\n",
       "      <td>Whse_J</td>\n",
       "      <td>Category_019</td>\n",
       "      <td>300000</td>\n",
       "    </tr>\n",
       "    <tr>\n",
       "      <td>2012-01-05</td>\n",
       "      <td>Product_1359</td>\n",
       "      <td>Whse_J</td>\n",
       "      <td>Category_019</td>\n",
       "      <td>16000</td>\n",
       "    </tr>\n",
       "    <tr>\n",
       "      <td>2012-01-05</td>\n",
       "      <td>Product_1359</td>\n",
       "      <td>Whse_J</td>\n",
       "      <td>Category_019</td>\n",
       "      <td>5000</td>\n",
       "    </tr>\n",
       "    <tr>\n",
       "      <td>2012-01-05</td>\n",
       "      <td>Product_1359</td>\n",
       "      <td>Whse_J</td>\n",
       "      <td>Category_019</td>\n",
       "      <td>1000</td>\n",
       "    </tr>\n",
       "  </tbody>\n",
       "</table>\n",
       "</div>"
      ],
      "text/plain": [
       "            Product_Code Warehouse Product_Category  Order_Demand\n",
       "Date                                                             \n",
       "2012-01-05  Product_1359    Whse_J     Category_019          5000\n",
       "2012-01-05  Product_1359    Whse_J     Category_019        300000\n",
       "2012-01-05  Product_1359    Whse_J     Category_019         16000\n",
       "2012-01-05  Product_1359    Whse_J     Category_019          5000\n",
       "2012-01-05  Product_1359    Whse_J     Category_019          1000"
      ]
     },
     "execution_count": 32,
     "metadata": {},
     "output_type": "execute_result"
    }
   ],
   "source": [
    "top_prod = ts_df[ts_df.Product_Code == 'Product_1359']\n",
    "top_prod = top_prod.sort_values(by=['Date'])\n",
    "top_prod.head()"
   ]
  },
  {
   "cell_type": "markdown",
   "metadata": {},
   "source": [
    "### Product Category"
   ]
  },
  {
   "cell_type": "code",
   "execution_count": 33,
   "metadata": {
    "scrolled": true
   },
   "outputs": [
    {
     "data": {
      "text/plain": [
       "Category_019    454677\n",
       "Category_005     95401\n",
       "Category_001     90485\n",
       "Category_007     77102\n",
       "Category_021     48666\n",
       "Category_006     33081\n",
       "Category_028     29570\n",
       "Category_015     22045\n",
       "Category_011     21349\n",
       "Category_024     20345\n",
       "Category_009     19056\n",
       "Category_026     13694\n",
       "Category_030     12677\n",
       "Category_032      8739\n",
       "Category_022      8532\n",
       "Category_023      7471\n",
       "Category_018      4964\n",
       "Category_003      4051\n",
       "Category_020      3465\n",
       "Category_013      3431\n",
       "Category_031      2139\n",
       "Category_033      1842\n",
       "Category_008      1435\n",
       "Category_012      1114\n",
       "Category_010       970\n",
       "Category_029       671\n",
       "Category_017       576\n",
       "Category_004       324\n",
       "Category_002        77\n",
       "Category_016        37\n",
       "Category_025        35\n",
       "Category_027        26\n",
       "Category_014        22\n",
       "Name: Product_Category, dtype: int64"
      ]
     },
     "execution_count": 33,
     "metadata": {},
     "output_type": "execute_result"
    }
   ],
   "source": [
    "ts_df.Product_Category.value_counts()"
   ]
  },
  {
   "cell_type": "markdown",
   "metadata": {},
   "source": [
    "Let's visualize this!"
   ]
  },
  {
   "cell_type": "code",
   "execution_count": 34,
   "metadata": {},
   "outputs": [
    {
     "data": {
      "image/png": "[encoded data removed]",
      "text/plain": [
       "<Figure size 1440x576 with 1 Axes>"
      ]
     },
     "metadata": {
      "needs_background": "light"
     },
     "output_type": "display_data"
    }
   ],
   "source": [
    "plt.figure(figsize=(20,8))\n",
    "sns.countplot(x='Product_Category', \n",
    "              data=ts_df,\n",
    "              order = ts_df['Product_Category'].value_counts().index)\n",
    "plt.xticks(rotation = 90)\n",
    "plt.show()"
   ]
  },
  {
   "cell_type": "markdown",
   "metadata": {},
   "source": [
    "Category 19 is by far the most in demand product. We can see it really taper off, especially when the lifetime demand for an entire category over the span of approximately 6 years is less than 100. \n",
    "\n",
    "Intuitively I would recommend nixing these products. However, if they are extremely high profit products, they may be able to be justified, however that is a far stretch with such low demand over around 6 years, assuming the products have been there since the beginning. \n",
    "\n",
    "Another thing to consider is as these are value counts this is essentially all of the days the products were ordered. There could be different amounts of the product ordered each day, which is represented by 'Order Demand'. We'll take a look at that next."
   ]
  },
  {
   "cell_type": "code",
   "execution_count": 35,
   "metadata": {
    "scrolled": true
   },
   "outputs": [
    {
     "data": {
      "text/html": [
       "<div>\n",
       "<style scoped>\n",
       "    .dataframe tbody tr th:only-of-type {\n",
       "        vertical-align: middle;\n",
       "    }\n",
       "\n",
       "    .dataframe tbody tr th {\n",
       "        vertical-align: top;\n",
       "    }\n",
       "\n",
       "    .dataframe thead th {\n",
       "        text-align: right;\n",
       "    }\n",
       "</style>\n",
       "<table border=\"1\" class=\"dataframe\">\n",
       "  <thead>\n",
       "    <tr style=\"text-align: right;\">\n",
       "      <th></th>\n",
       "      <th>Order_Demand</th>\n",
       "    </tr>\n",
       "    <tr>\n",
       "      <th>Product_Category</th>\n",
       "      <th></th>\n",
       "    </tr>\n",
       "  </thead>\n",
       "  <tbody>\n",
       "    <tr>\n",
       "      <td>Category_019</td>\n",
       "      <td>4194378057</td>\n",
       "    </tr>\n",
       "    <tr>\n",
       "      <td>Category_006</td>\n",
       "      <td>392440975</td>\n",
       "    </tr>\n",
       "    <tr>\n",
       "      <td>Category_005</td>\n",
       "      <td>194334575</td>\n",
       "    </tr>\n",
       "    <tr>\n",
       "      <td>Category_007</td>\n",
       "      <td>127078780</td>\n",
       "    </tr>\n",
       "    <tr>\n",
       "      <td>Category_028</td>\n",
       "      <td>46854126</td>\n",
       "    </tr>\n",
       "    <tr>\n",
       "      <td>Category_033</td>\n",
       "      <td>42360000</td>\n",
       "    </tr>\n",
       "    <tr>\n",
       "      <td>Category_030</td>\n",
       "      <td>39961526</td>\n",
       "    </tr>\n",
       "    <tr>\n",
       "      <td>Category_032</td>\n",
       "      <td>4400792</td>\n",
       "    </tr>\n",
       "    <tr>\n",
       "      <td>Category_021</td>\n",
       "      <td>4286884</td>\n",
       "    </tr>\n",
       "    <tr>\n",
       "      <td>Category_009</td>\n",
       "      <td>3578066</td>\n",
       "    </tr>\n",
       "    <tr>\n",
       "      <td>Category_023</td>\n",
       "      <td>3276302</td>\n",
       "    </tr>\n",
       "    <tr>\n",
       "      <td>Category_011</td>\n",
       "      <td>2793329</td>\n",
       "    </tr>\n",
       "    <tr>\n",
       "      <td>Category_020</td>\n",
       "      <td>2326710</td>\n",
       "    </tr>\n",
       "    <tr>\n",
       "      <td>Category_001</td>\n",
       "      <td>1623514</td>\n",
       "    </tr>\n",
       "    <tr>\n",
       "      <td>Category_024</td>\n",
       "      <td>1028360</td>\n",
       "    </tr>\n",
       "    <tr>\n",
       "      <td>Category_015</td>\n",
       "      <td>792873</td>\n",
       "    </tr>\n",
       "    <tr>\n",
       "      <td>Category_022</td>\n",
       "      <td>588883</td>\n",
       "    </tr>\n",
       "    <tr>\n",
       "      <td>Category_025</td>\n",
       "      <td>486000</td>\n",
       "    </tr>\n",
       "    <tr>\n",
       "      <td>Category_003</td>\n",
       "      <td>386301</td>\n",
       "    </tr>\n",
       "    <tr>\n",
       "      <td>Category_013</td>\n",
       "      <td>293647</td>\n",
       "    </tr>\n",
       "    <tr>\n",
       "      <td>Category_026</td>\n",
       "      <td>268842</td>\n",
       "    </tr>\n",
       "    <tr>\n",
       "      <td>Category_004</td>\n",
       "      <td>94728</td>\n",
       "    </tr>\n",
       "    <tr>\n",
       "      <td>Category_012</td>\n",
       "      <td>66268</td>\n",
       "    </tr>\n",
       "    <tr>\n",
       "      <td>Category_017</td>\n",
       "      <td>46140</td>\n",
       "    </tr>\n",
       "    <tr>\n",
       "      <td>Category_018</td>\n",
       "      <td>44195</td>\n",
       "    </tr>\n",
       "    <tr>\n",
       "      <td>Category_029</td>\n",
       "      <td>22061</td>\n",
       "    </tr>\n",
       "    <tr>\n",
       "      <td>Category_010</td>\n",
       "      <td>21059</td>\n",
       "    </tr>\n",
       "    <tr>\n",
       "      <td>Category_016</td>\n",
       "      <td>16850</td>\n",
       "    </tr>\n",
       "    <tr>\n",
       "      <td>Category_008</td>\n",
       "      <td>16178</td>\n",
       "    </tr>\n",
       "    <tr>\n",
       "      <td>Category_031</td>\n",
       "      <td>12161</td>\n",
       "    </tr>\n",
       "    <tr>\n",
       "      <td>Category_002</td>\n",
       "      <td>620</td>\n",
       "    </tr>\n",
       "    <tr>\n",
       "      <td>Category_014</td>\n",
       "      <td>91</td>\n",
       "    </tr>\n",
       "    <tr>\n",
       "      <td>Category_027</td>\n",
       "      <td>57</td>\n",
       "    </tr>\n",
       "  </tbody>\n",
       "</table>\n",
       "</div>"
      ],
      "text/plain": [
       "                  Order_Demand\n",
       "Product_Category              \n",
       "Category_019        4194378057\n",
       "Category_006         392440975\n",
       "Category_005         194334575\n",
       "Category_007         127078780\n",
       "Category_028          46854126\n",
       "Category_033          42360000\n",
       "Category_030          39961526\n",
       "Category_032           4400792\n",
       "Category_021           4286884\n",
       "Category_009           3578066\n",
       "Category_023           3276302\n",
       "Category_011           2793329\n",
       "Category_020           2326710\n",
       "Category_001           1623514\n",
       "Category_024           1028360\n",
       "Category_015            792873\n",
       "Category_022            588883\n",
       "Category_025            486000\n",
       "Category_003            386301\n",
       "Category_013            293647\n",
       "Category_026            268842\n",
       "Category_004             94728\n",
       "Category_012             66268\n",
       "Category_017             46140\n",
       "Category_018             44195\n",
       "Category_029             22061\n",
       "Category_010             21059\n",
       "Category_016             16850\n",
       "Category_008             16178\n",
       "Category_031             12161\n",
       "Category_002               620\n",
       "Category_014                91\n",
       "Category_027                57"
      ]
     },
     "execution_count": 35,
     "metadata": {},
     "output_type": "execute_result"
    }
   ],
   "source": [
    "# Lifetime demand of each product category\n",
    "\n",
    "ts_df_cat = ts_df.groupby(by=ts_df.Product_Category).sum()\n",
    "ts_df_cat = ts_df_cat.sort_values(by='Order_Demand', ascending=False)\n",
    "ts_df_cat"
   ]
  },
  {
   "cell_type": "code",
   "execution_count": 36,
   "metadata": {},
   "outputs": [
    {
     "data": {
      "image/png": "[encoded data removed]",
      "text/plain": [
       "<Figure size 1440x576 with 1 Axes>"
      ]
     },
     "metadata": {
      "needs_background": "light"
     },
     "output_type": "display_data"
    }
   ],
   "source": [
    "# Set variables and labels \n",
    "\n",
    "# x-labels\n",
    "labels = ts_df_cat.index\n",
    "# x-values\n",
    "products = list(range(0,len(labels)))\n",
    "# y-values\n",
    "order_demand = ts_df_cat.Order_Demand\n",
    "\n",
    "# Plot \n",
    "# Set figure\n",
    "plt.figure(figsize=(20,8))\n",
    "# Plot\n",
    "plt.bar(products, order_demand, align='center')\n",
    "# Add labels & rotate 90 degrees\n",
    "plt.xticks(products, labels, rotation = 90)\n",
    "plt.show()"
   ]
  },
  {
   "cell_type": "code",
   "execution_count": 46,
   "metadata": {},
   "outputs": [
    {
     "data": {
      "text/html": [
       "<div>\n",
       "<style scoped>\n",
       "    .dataframe tbody tr th:only-of-type {\n",
       "        vertical-align: middle;\n",
       "    }\n",
       "\n",
       "    .dataframe tbody tr th {\n",
       "        vertical-align: top;\n",
       "    }\n",
       "\n",
       "    .dataframe thead th {\n",
       "        text-align: right;\n",
       "    }\n",
       "</style>\n",
       "<table border=\"1\" class=\"dataframe\">\n",
       "  <thead>\n",
       "    <tr style=\"text-align: right;\">\n",
       "      <th></th>\n",
       "      <th>Product_Code</th>\n",
       "      <th>Warehouse</th>\n",
       "      <th>Product_Category</th>\n",
       "      <th>Order_Demand</th>\n",
       "    </tr>\n",
       "    <tr>\n",
       "      <th>Date</th>\n",
       "      <th></th>\n",
       "      <th></th>\n",
       "      <th></th>\n",
       "      <th></th>\n",
       "    </tr>\n",
       "  </thead>\n",
       "  <tbody>\n",
       "    <tr>\n",
       "      <td>2012-01-01</td>\n",
       "      <td>Product_2166</td>\n",
       "      <td>Whse_S</td>\n",
       "      <td>Category_024</td>\n",
       "      <td>2</td>\n",
       "    </tr>\n",
       "    <tr>\n",
       "      <td>2012-01-02</td>\n",
       "      <td>Product_0664</td>\n",
       "      <td>Whse_S</td>\n",
       "      <td>Category_011</td>\n",
       "      <td>20</td>\n",
       "    </tr>\n",
       "    <tr>\n",
       "      <td>2012-01-02</td>\n",
       "      <td>Product_1431</td>\n",
       "      <td>Whse_S</td>\n",
       "      <td>Category_019</td>\n",
       "      <td>20000</td>\n",
       "    </tr>\n",
       "    <tr>\n",
       "      <td>2012-01-02</td>\n",
       "      <td>Product_1631</td>\n",
       "      <td>Whse_S</td>\n",
       "      <td>Category_019</td>\n",
       "      <td>1000</td>\n",
       "    </tr>\n",
       "    <tr>\n",
       "      <td>2012-01-02</td>\n",
       "      <td>Product_1567</td>\n",
       "      <td>Whse_S</td>\n",
       "      <td>Category_019</td>\n",
       "      <td>68000</td>\n",
       "    </tr>\n",
       "    <tr>\n",
       "      <td>...</td>\n",
       "      <td>...</td>\n",
       "      <td>...</td>\n",
       "      <td>...</td>\n",
       "      <td>...</td>\n",
       "    </tr>\n",
       "    <tr>\n",
       "      <td>2016-12-30</td>\n",
       "      <td>Product_1513</td>\n",
       "      <td>Whse_A</td>\n",
       "      <td>Category_019</td>\n",
       "      <td>100</td>\n",
       "    </tr>\n",
       "    <tr>\n",
       "      <td>2016-12-30</td>\n",
       "      <td>Product_1431</td>\n",
       "      <td>Whse_S</td>\n",
       "      <td>Category_019</td>\n",
       "      <td>15000</td>\n",
       "    </tr>\n",
       "    <tr>\n",
       "      <td>2016-12-30</td>\n",
       "      <td>Product_1263</td>\n",
       "      <td>Whse_S</td>\n",
       "      <td>Category_019</td>\n",
       "      <td>15000</td>\n",
       "    </tr>\n",
       "    <tr>\n",
       "      <td>2016-12-30</td>\n",
       "      <td>Product_1419</td>\n",
       "      <td>Whse_A</td>\n",
       "      <td>Category_019</td>\n",
       "      <td>2300</td>\n",
       "    </tr>\n",
       "    <tr>\n",
       "      <td>2016-12-30</td>\n",
       "      <td>Product_1416</td>\n",
       "      <td>Whse_A</td>\n",
       "      <td>Category_019</td>\n",
       "      <td>23000</td>\n",
       "    </tr>\n",
       "  </tbody>\n",
       "</table>\n",
       "<p>988069 rows × 4 columns</p>\n",
       "</div>"
      ],
      "text/plain": [
       "            Product_Code Warehouse Product_Category  Order_Demand\n",
       "Date                                                             \n",
       "2012-01-01  Product_2166    Whse_S     Category_024             2\n",
       "2012-01-02  Product_0664    Whse_S     Category_011            20\n",
       "2012-01-02  Product_1431    Whse_S     Category_019         20000\n",
       "2012-01-02  Product_1631    Whse_S     Category_019          1000\n",
       "2012-01-02  Product_1567    Whse_S     Category_019         68000\n",
       "...                  ...       ...              ...           ...\n",
       "2016-12-30  Product_1513    Whse_A     Category_019           100\n",
       "2016-12-30  Product_1431    Whse_S     Category_019         15000\n",
       "2016-12-30  Product_1263    Whse_S     Category_019         15000\n",
       "2016-12-30  Product_1419    Whse_A     Category_019          2300\n",
       "2016-12-30  Product_1416    Whse_A     Category_019         23000\n",
       "\n",
       "[988069 rows x 4 columns]"
      ]
     },
     "execution_count": 46,
     "metadata": {},
     "output_type": "execute_result"
    }
   ],
   "source": [
    "ts_df.groupby"
   ]
  },
  {
   "cell_type": "code",
   "execution_count": 43,
   "metadata": {},
   "outputs": [
    {
     "data": {
      "image/png": "[encoded data removed]",
      "text/plain": [
       "<Figure size 1152x576 with 1 Axes>"
      ]
     },
     "metadata": {
      "needs_background": "light"
     },
     "output_type": "display_data"
    }
   ],
   "source": [
    "# Set figure size\n",
    "plt.figure(figsize=(16,8))\n",
    "# Box plot\n",
    "sns.boxplot(ts_df['Product_Category'], np.log1p(ts_df['Order_Demand']))\n",
    "plt.xticks(products, labels, rotation = 90)\n",
    "plt.show()"
   ]
  },
  {
   "cell_type": "markdown",
   "metadata": {},
   "source": [
    "# Modeling "
   ]
  },
  {
   "cell_type": "markdown",
   "metadata": {},
   "source": [
    "## Build & Fit Baseline Model"
   ]
  },
  {
   "cell_type": "markdown",
   "metadata": {},
   "source": [
    "### Top Product\n",
    "\n",
    "#### Daily Trend Forecasting"
   ]
  },
  {
   "cell_type": "code",
   "execution_count": null,
   "metadata": {},
   "outputs": [],
   "source": [
    "# Group by day\n",
    "top_prod_d = ts_df.groupby(pd.Grouper(freq='D')).sum()\n",
    "top_prod_d"
   ]
  },
  {
   "cell_type": "code",
   "execution_count": null,
   "metadata": {},
   "outputs": [],
   "source": [
    "# Convert to fbprophet format\n",
    "\n",
    "# Move datetime index to column\n",
    "top_prod_d.reset_index(inplace=True)\n",
    "# Rename columns for fbprophet format\n",
    "top_prod_d = top_prod_d.rename(columns={'Date':'ds', 'Order_Demand': 'y'})\n",
    "# Preview\n",
    "top_prod_d.head()"
   ]
  },
  {
   "cell_type": "code",
   "execution_count": null,
   "metadata": {},
   "outputs": [],
   "source": [
    "m = Prophet(interval_width=0.95)\n",
    "m.fit(top_prod_d)\n",
    "\n",
    "# Forcasting 3 months into the future\n",
    "future = m.make_future_dataframe(periods=365, freq='D')\n",
    "forecast = m.predict(future)"
   ]
  },
  {
   "cell_type": "code",
   "execution_count": null,
   "metadata": {},
   "outputs": [],
   "source": [
    "forecast.head().round()"
   ]
  },
  {
   "cell_type": "code",
   "execution_count": null,
   "metadata": {},
   "outputs": [],
   "source": [
    "# Calculate RMSE\n",
    "res = top_prod_w.y - forecast.yhat[:-365]\n",
    "rss = np.sum(np.square(res))\n",
    "mse = rss/len(res)\n",
    "rmse = np.sqrt(mse)\n",
    "print(f\"RMSE: {rmse.round()}\")"
   ]
  },
  {
   "cell_type": "code",
   "execution_count": null,
   "metadata": {},
   "outputs": [],
   "source": [
    "figure1 = m.plot(forecast, xlabel = 'Date', ylabel = 'Order Demand',uncertainty=True)"
   ]
  },
  {
   "cell_type": "markdown",
   "metadata": {},
   "source": [
    "We can see there is a lot of daily variation here. The dark blue represents the daily prediction, while the black dot represents the actual value. The light blue represents the 80% confidence intervals (80% is defauly by fbprophet). \n",
    "\n",
    "We will smooth this out by looking at weekly and monthly demand. We'll do that in subsequent models. "
   ]
  },
  {
   "cell_type": "code",
   "execution_count": null,
   "metadata": {},
   "outputs": [],
   "source": [
    "figure2 = m.plot_components(forecast)"
   ]
  },
  {
   "cell_type": "markdown",
   "metadata": {},
   "source": [
    "### Discussion\n",
    "\n",
    "**Trend**\n",
    "\n",
    "We can see there is a trend present where demand for this product increased, peaking in 2015, before declining. \n",
    "\n",
    "Since we don't have more information on this dataset we can only guess what caused this. It could be that the product started out early in its lifecycle, peaked and then began to decline. \n",
    "\n",
    "It could be that a competitor product was introduced. It could be that there was a change in industry trends. Perhaps there was a promotional campaign in 2015. We would really need more information to decipher the cause of this trend. \n",
    "\n",
    "**Weekly**\n",
    "\n",
    "We can see orders seem to have a M-F schedule, which makes sense as most businesses are closed on weekends.\n",
    "\n",
    "There is a peak in demand Tuesday, with Monday being a close second. The lowest day for orders being Wednesday.\n",
    "\n",
    "It does look like there is negative demand on the weekends. This was not explained in the dataset information on Kaggle, however this could represent return orders.\n",
    "\n",
    "**Yearly**\n",
    "\n",
    "It appears the highest peaks are in December and February. "
   ]
  },
  {
   "cell_type": "markdown",
   "metadata": {},
   "source": [
    "#### Monthly Trend Forecasting"
   ]
  },
  {
   "cell_type": "code",
   "execution_count": null,
   "metadata": {},
   "outputs": [],
   "source": [
    "# Group by month\n",
    "top_prod_m = ts_df.groupby(pd.Grouper(freq='M')).sum()\n",
    "\n",
    "# Preview\n",
    "display(top_prod_m.head())\n",
    "display(top_prod_m.tail())"
   ]
  },
  {
   "cell_type": "code",
   "execution_count": null,
   "metadata": {},
   "outputs": [],
   "source": [
    "# Convert to fbprophet format\n",
    "\n",
    "# Move datetime index to column\n",
    "top_prod_m.reset_index(inplace=True)\n",
    "# Rename columns for fbprophet format\n",
    "top_prod_m = top_prod_m.rename(columns={'Date':'ds', 'Order_Demand': 'y'})\n",
    "# Preview\n",
    "display(top_prod_m.head())\n",
    "\n",
    "m = Prophet(interval_width=0.95)\n",
    "m.fit(top_prod_m)\n",
    "\n",
    "# Forcasting 3 months into the future\n",
    "future = m.make_future_dataframe(periods=12, freq='M')\n",
    "forecast = m.predict(future)\n",
    "\n",
    "display(forecast.head().round())\n",
    "\n",
    "# Calculate RMSE\n",
    "res = top_prod_w.y - forecast.yhat[:-12]\n",
    "rss = np.sum(np.square(res))\n",
    "mse = rss/len(res)\n",
    "rmse = np.sqrt(mse)\n",
    "print(f\"RMSE: {rmse.round()}\")\n",
    "\n",
    "figure1 = m.plot(forecast, xlabel = 'Date', ylabel = 'Order Demand',uncertainty=True)\n",
    "figure2 = m.plot_components(forecast)"
   ]
  },
  {
   "cell_type": "markdown",
   "metadata": {},
   "source": [
    "In our time series plot, we can see the trend unlike in our daily time series plot plot. One difference however is that the yearly trends don't line up with our daily time series components.\n",
    "\n",
    "Let's see if weekly improves upon this."
   ]
  },
  {
   "cell_type": "markdown",
   "metadata": {},
   "source": [
    "#### Weekly Trend Forecasting"
   ]
  },
  {
   "cell_type": "code",
   "execution_count": null,
   "metadata": {},
   "outputs": [],
   "source": [
    "# Group by week\n",
    "top_prod_w = ts_df.groupby(pd.Grouper(freq='W')).sum()\n",
    "\n",
    "# Preview\n",
    "display(top_prod_w.head())\n",
    "display(top_prod_w.tail())"
   ]
  },
  {
   "cell_type": "markdown",
   "metadata": {},
   "source": [
    "The first and last weeks have abnormally low numbers. We're going to remove these and assume they are incomplete since they are outliers compared to the rest of the dataset."
   ]
  },
  {
   "cell_type": "code",
   "execution_count": null,
   "metadata": {},
   "outputs": [],
   "source": [
    "# Drop last row\n",
    "top_prod_w = top_prod_w[:-1]\n",
    "\n",
    "# Drop first row\n",
    "top_prod_w = top_prod_w[1:]\n",
    "\n",
    "# Preview\n",
    "display(top_prod_w.head())\n",
    "display(top_prod_w.tail())"
   ]
  },
  {
   "cell_type": "markdown",
   "metadata": {},
   "source": [
    "Looks much better. Let's now continue on. "
   ]
  },
  {
   "cell_type": "code",
   "execution_count": null,
   "metadata": {},
   "outputs": [],
   "source": [
    "# Convert to fbprophet format\n",
    "\n",
    "# Move datetime index to column\n",
    "top_prod_w.reset_index(inplace=True)\n",
    "# Rename columns for fbprophet format\n",
    "top_prod_w = top_prod_w.rename(columns={'Date':'ds', 'Order_Demand': 'y'})\n",
    "# Preview\n",
    "display(top_prod_w.head())\n",
    "display(top_prod_w.tail())"
   ]
  },
  {
   "cell_type": "code",
   "execution_count": null,
   "metadata": {},
   "outputs": [],
   "source": [
    "# Fit model & predict\n",
    "\n",
    "m = Prophet(interval_width=0.95)\n",
    "m.fit(top_prod_w)\n",
    "\n",
    "# Forcasting 3 months into the future\n",
    "future = m.make_future_dataframe(periods=52, freq='W')\n",
    "forecast = m.predict(future)\n",
    "\n",
    "display(forecast[['ds', 'trend','yhat', 'yhat_lower', 'yhat_upper']].tail().round())\n",
    "\n",
    "figure1 = m.plot(forecast, xlabel = 'Date', ylabel = 'Order Demand',uncertainty=True)\n",
    "figure2 = m.plot_components(forecast)"
   ]
  },
  {
   "cell_type": "markdown",
   "metadata": {},
   "source": [
    "We can see the trend and yearly components here match the daily time series trends, while also still showing the overall trend. \n",
    "\n",
    "Next we'll want to take a look at performance metrics and test our model on other products."
   ]
  },
  {
   "cell_type": "markdown",
   "metadata": {},
   "source": [
    "## Performance Metrics"
   ]
  },
  {
   "cell_type": "code",
   "execution_count": null,
   "metadata": {},
   "outputs": [],
   "source": [
    "# Calculate RMSE\n",
    "res = top_prod_w.y - forecast.yhat[:-52]\n",
    "rss = np.sum(np.square(res))\n",
    "mse = rss/len(res)\n",
    "rmse = np.sqrt(mse)\n",
    "print(f\"RMSE: {rmse.round()}\")"
   ]
  },
  {
   "cell_type": "markdown",
   "metadata": {},
   "source": [
    "### Crossvalidation"
   ]
  },
  {
   "cell_type": "code",
   "execution_count": null,
   "metadata": {},
   "outputs": [],
   "source": [
    "from fbprophet.diagnostics import cross_validation\n",
    "top_prod_w_cv = cross_validation(m, initial='365 days', period='365 days', horizon = '365 days')\n",
    "display(top_prod_w_cv.head())\n",
    "display(top_prod_w_cv.tail())"
   ]
  },
  {
   "cell_type": "code",
   "execution_count": null,
   "metadata": {},
   "outputs": [],
   "source": [
    "from fbprophet.diagnostics import performance_metrics\n",
    "top_prod_p = performance_metrics(top_prod_w_cv)\n",
    "print('Min MAPE:')\n",
    "display(top_prod_p.sort_values(by=['mape']).head())\n",
    "print('Min RMSE:')\n",
    "display(top_prod_p.sort_values(by=['rmse']).head())"
   ]
  },
  {
   "cell_type": "markdown",
   "metadata": {},
   "source": [
    "The same min for both! "
   ]
  },
  {
   "cell_type": "code",
   "execution_count": null,
   "metadata": {},
   "outputs": [],
   "source": [
    "from fbprophet.plot import plot_cross_validation_metric\n",
    "fig = plot_cross_validation_metric(top_prod_w_cv, metric='mape', rolling_window=.2)\n",
    "plt.title('Cross Validation : MAPE')\n",
    "plt.ylim([0,1])\n",
    "plt.show()\n",
    "fig = plot_cross_validation_metric(top_prod_w_cv, metric='rmse', rolling_window=.2)\n",
    "plt.title('Cross Validation : RMSE')\n",
    "plt.show()"
   ]
  },
  {
   "cell_type": "markdown",
   "metadata": {},
   "source": [
    "### Hyperparameter Tuning"
   ]
  },
  {
   "cell_type": "code",
   "execution_count": null,
   "metadata": {},
   "outputs": [],
   "source": [
    "import itertools\n",
    "import numpy as np\n",
    "import pandas as pd\n",
    "\n",
    "# Filter warnings\n",
    "import logging\n",
    "logging.getLogger('fbprophet').setLevel(logging.ERROR)\n",
    "import warnings\n",
    "warnings.filterwarnings(\"ignore\")\n",
    "\n",
    "param_grid = {  \n",
    "    'changepoint_prior_scale': [0.001, 0.01, 0.1, 0.5],\n",
    "    'seasonality_prior_scale': [3, 5, 10, 15],\n",
    "}\n",
    "\n",
    "# Generate all combinations of parameters\n",
    "all_params = [dict(zip(param_grid.keys(), v)) for v in itertools.product(*param_grid.values())]\n",
    "rmses = []  # Store the RMSEs for each params here\n",
    "\n",
    "# Use cross validation to evaluate all parameters\n",
    "for params in all_params:\n",
    "    m = Prophet(**params).fit(top_prod_w)  # Fit model with given params\n",
    "    df_cv = cross_validation(m, horizon='365 days')\n",
    "    df_p = performance_metrics(df_cv, rolling_window=1)\n",
    "    rmses.append(df_p['rmse'].values[0])\n",
    "\n",
    "# Find the best parameters\n",
    "tuning_results = pd.DataFrame(all_params)\n",
    "tuning_results['rmse'] = rmses\n",
    "print(tuning_results)"
   ]
  },
  {
   "cell_type": "code",
   "execution_count": null,
   "metadata": {},
   "outputs": [],
   "source": [
    "best_params = all_params[np.argmin(rmses)]\n",
    "print(best_params)"
   ]
  },
  {
   "cell_type": "markdown",
   "metadata": {},
   "source": [
    "None of these appear to improve the model. We can test them out however. "
   ]
  },
  {
   "cell_type": "code",
   "execution_count": null,
   "metadata": {},
   "outputs": [],
   "source": []
  },
  {
   "cell_type": "markdown",
   "metadata": {},
   "source": [
    "## Forecasting & Predictions"
   ]
  },
  {
   "cell_type": "markdown",
   "metadata": {},
   "source": [
    "## Discussion"
   ]
  },
  {
   "cell_type": "markdown",
   "metadata": {},
   "source": [
    "# Conclusion"
   ]
  },
  {
   "cell_type": "markdown",
   "metadata": {},
   "source": [
    "## Results"
   ]
  },
  {
   "cell_type": "markdown",
   "metadata": {},
   "source": [
    "## Recommendations"
   ]
  },
  {
   "cell_type": "markdown",
   "metadata": {},
   "source": [
    "## Future Work"
   ]
  },
  {
   "cell_type": "code",
   "execution_count": null,
   "metadata": {},
   "outputs": [],
   "source": []
  }
 ],
 "metadata": {
  "kernelspec": {
   "display_name": "Python [conda env:learn-env] *",
   "language": "python",
   "name": "conda-env-learn-env-py"
  },
  "language_info": {
   "codemirror_mode": {
    "name": "ipython",
    "version": 3
   },
   "file_extension": ".py",
   "mimetype": "text/x-python",
   "name": "python",
   "nbconvert_exporter": "python",
   "pygments_lexer": "ipython3",
   "version": "3.6.9"
  },
  "toc": {
   "base_numbering": 1,
   "nav_menu": {},
   "number_sections": true,
   "sideBar": true,
   "skip_h1_title": false,
   "title_cell": "Table of Contents",
   "title_sidebar": "Contents",
   "toc_cell": true,
   "toc_position": {
    "height": "calc(100% - 180px)",
    "left": "10px",
    "top": "150px",
    "width": "204.716px"
   },
   "toc_section_display": true,
   "toc_window_display": true
  }
 },
 "nbformat": 4,
 "nbformat_minor": 2
}
